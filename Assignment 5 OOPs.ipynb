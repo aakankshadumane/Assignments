{
 "cells": [
  {
   "cell_type": "code",
   "execution_count": null,
   "id": "5a7c61b0",
   "metadata": {},
   "outputs": [],
   "source": [
    "# Q1. Explain Class and Object with respect to Object-Oriented Programming.\n",
    "# Give a suitable example.\n",
    "\n",
    "Class is a blueprint where we can encapsulate methods and variables.\n",
    "Object are instances of class. They are used to call methods, access variables in a class.\n",
    "Example:\n",
    "    "
   ]
  },
  {
   "cell_type": "code",
   "execution_count": 3,
   "id": "bdbbbede",
   "metadata": {},
   "outputs": [],
   "source": [
    "class example:\n",
    "    var = 34           #class variable\n",
    "    def show(self,number):   #Instance method\n",
    "        print(number)"
   ]
  },
  {
   "cell_type": "code",
   "execution_count": 4,
   "id": "2a07ad95",
   "metadata": {},
   "outputs": [],
   "source": [
    "e = example()  #creating object of class"
   ]
  },
  {
   "cell_type": "code",
   "execution_count": 7,
   "id": "37071f64",
   "metadata": {},
   "outputs": [
    {
     "name": "stdout",
     "output_type": "stream",
     "text": [
      "25\n"
     ]
    }
   ],
   "source": [
    "e.show(25)"
   ]
  },
  {
   "cell_type": "code",
   "execution_count": 8,
   "id": "fa9dc7e7",
   "metadata": {},
   "outputs": [
    {
     "data": {
      "text/plain": [
       "34"
      ]
     },
     "execution_count": 8,
     "metadata": {},
     "output_type": "execute_result"
    }
   ],
   "source": [
    "e.var"
   ]
  },
  {
   "cell_type": "code",
   "execution_count": null,
   "id": "842f56a8",
   "metadata": {},
   "outputs": [],
   "source": [
    "# Q2. Name the four pillars of OOPs.\n",
    "1. Encapsulation\n",
    "2. Abstraction\n",
    "3. Inheritance\n",
    "4. Polymorphism"
   ]
  },
  {
   "cell_type": "code",
   "execution_count": null,
   "id": "3c536df1",
   "metadata": {},
   "outputs": [],
   "source": [
    "# Q3. Explain why the __init__() function is used. Give a suitable example.\n",
    "__init__() is a  Constructor in a class.\n",
    "It is used to  initialize variables when creating objects.\n",
    "Everytime object of class is created init is called."
   ]
  },
  {
   "cell_type": "code",
   "execution_count": null,
   "id": "49c085c4",
   "metadata": {},
   "outputs": [],
   "source": [
    "# Q4. Why self is used in OOPs?\n",
    "self in methods is used to show that the method is bound to object. \n",
    "When a object calls a particular method, then self argument accepts the object as the first argument\n",
    "self is not a keyword"
   ]
  },
  {
   "cell_type": "code",
   "execution_count": null,
   "id": "857646f0",
   "metadata": {},
   "outputs": [],
   "source": [
    "# Q5. What is inheritance? Give an example for each type of inheritance.\n",
    "Inheritance means inheriting property/methods/variables of parent class to child class.\n",
    "Child class can access parent class methods but parent class cannot access child class methods\n",
    "Type of Inheritance: Simple, Multiple, Multilevel"
   ]
  },
  {
   "cell_type": "code",
   "execution_count": 11,
   "id": "03576a87",
   "metadata": {},
   "outputs": [],
   "source": [
    "# Simple Inheritance\n",
    "class A:\n",
    "    def method1(self):\n",
    "        print(\"Class A\")\n",
    "class B(A):\n",
    "    pass"
   ]
  },
  {
   "cell_type": "code",
   "execution_count": 12,
   "id": "e876e331",
   "metadata": {},
   "outputs": [],
   "source": [
    "b = B()  #creating object of child class"
   ]
  },
  {
   "cell_type": "code",
   "execution_count": 13,
   "id": "e835197b",
   "metadata": {},
   "outputs": [
    {
     "name": "stdout",
     "output_type": "stream",
     "text": [
      "Class A\n"
     ]
    }
   ],
   "source": [
    "b.method1() #calling method of parent class using child class object"
   ]
  },
  {
   "cell_type": "code",
   "execution_count": null,
   "id": "39340955",
   "metadata": {},
   "outputs": [],
   "source": []
  },
  {
   "cell_type": "code",
   "execution_count": 14,
   "id": "afc2bdf6",
   "metadata": {},
   "outputs": [],
   "source": [
    "# Multiple Inheritance - One child class 2 parent class\n",
    "\n",
    "class P1:\n",
    "    def m1(self):\n",
    "        print(\"Parent 1\")\n",
    "class P2:\n",
    "    def m2(self):\n",
    "        print(\"Parent 2\")\n",
    "class Child(P1, P2):\n",
    "    pass"
   ]
  },
  {
   "cell_type": "code",
   "execution_count": 15,
   "id": "cb50a193",
   "metadata": {},
   "outputs": [],
   "source": [
    "c = Child() #creating object of child class"
   ]
  },
  {
   "cell_type": "code",
   "execution_count": 16,
   "id": "f05a35e4",
   "metadata": {},
   "outputs": [
    {
     "name": "stdout",
     "output_type": "stream",
     "text": [
      "Parent 1\n"
     ]
    }
   ],
   "source": [
    "c.m1()"
   ]
  },
  {
   "cell_type": "code",
   "execution_count": 17,
   "id": "0d75fcb6",
   "metadata": {},
   "outputs": [
    {
     "name": "stdout",
     "output_type": "stream",
     "text": [
      "Parent 2\n"
     ]
    }
   ],
   "source": [
    "c.m2()"
   ]
  },
  {
   "cell_type": "code",
   "execution_count": null,
   "id": "487e8b34",
   "metadata": {},
   "outputs": [],
   "source": []
  },
  {
   "cell_type": "code",
   "execution_count": 18,
   "id": "a0ece621",
   "metadata": {},
   "outputs": [],
   "source": [
    "# Multilevel Inheritance -- hierarchy of classes\n",
    "\n",
    "class A:\n",
    "    def f1(self):\n",
    "        print(\"A class\")\n",
    "class B(A):\n",
    "    def f2(self):\n",
    "        print(\"B class\")\n",
    "class C(B):\n",
    "    def f3(self):\n",
    "        print(\"C class\")"
   ]
  },
  {
   "cell_type": "code",
   "execution_count": 19,
   "id": "dcaa17c6",
   "metadata": {},
   "outputs": [],
   "source": [
    "c = C()"
   ]
  },
  {
   "cell_type": "code",
   "execution_count": 20,
   "id": "9c4dcec1",
   "metadata": {},
   "outputs": [
    {
     "name": "stdout",
     "output_type": "stream",
     "text": [
      "A class\n"
     ]
    }
   ],
   "source": [
    "c.f1()"
   ]
  },
  {
   "cell_type": "code",
   "execution_count": 21,
   "id": "ecfca0d2",
   "metadata": {},
   "outputs": [
    {
     "name": "stdout",
     "output_type": "stream",
     "text": [
      "B class\n"
     ]
    }
   ],
   "source": [
    "c.f2()"
   ]
  },
  {
   "cell_type": "code",
   "execution_count": 22,
   "id": "8deeb161",
   "metadata": {},
   "outputs": [
    {
     "name": "stdout",
     "output_type": "stream",
     "text": [
      "C class\n"
     ]
    }
   ],
   "source": [
    "c.f3()"
   ]
  },
  {
   "cell_type": "code",
   "execution_count": 23,
   "id": "f188b3c1",
   "metadata": {},
   "outputs": [],
   "source": [
    "b = B()"
   ]
  },
  {
   "cell_type": "code",
   "execution_count": 24,
   "id": "28076047",
   "metadata": {},
   "outputs": [
    {
     "name": "stdout",
     "output_type": "stream",
     "text": [
      "A class\n"
     ]
    }
   ],
   "source": [
    "b.f1()"
   ]
  },
  {
   "cell_type": "code",
   "execution_count": 25,
   "id": "dc16ed12",
   "metadata": {},
   "outputs": [
    {
     "name": "stdout",
     "output_type": "stream",
     "text": [
      "B class\n"
     ]
    }
   ],
   "source": [
    "b.f2()"
   ]
  },
  {
   "cell_type": "code",
   "execution_count": null,
   "id": "a5403401",
   "metadata": {},
   "outputs": [],
   "source": []
  }
 ],
 "metadata": {
  "kernelspec": {
   "display_name": "Python 3 (ipykernel)",
   "language": "python",
   "name": "python3"
  },
  "language_info": {
   "codemirror_mode": {
    "name": "ipython",
    "version": 3
   },
   "file_extension": ".py",
   "mimetype": "text/x-python",
   "name": "python",
   "nbconvert_exporter": "python",
   "pygments_lexer": "ipython3",
   "version": "3.9.12"
  }
 },
 "nbformat": 4,
 "nbformat_minor": 5
}
