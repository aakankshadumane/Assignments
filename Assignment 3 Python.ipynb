{
 "cells": [
  {
   "cell_type": "code",
   "execution_count": null,
   "id": "2e3833a4",
   "metadata": {},
   "outputs": [],
   "source": [
    "# Q1. Which keyword is used to create a function? \n",
    "# Create a function to return a list of odd numbers in the range of 1 to 25.\n",
    "def keyword is used to create function\n"
   ]
  },
  {
   "cell_type": "code",
   "execution_count": 1,
   "id": "d5204a7d",
   "metadata": {},
   "outputs": [
    {
     "name": "stdout",
     "output_type": "stream",
     "text": [
      "1 3 5 7 9 11 13 15 17 19 21 23 25 "
     ]
    }
   ],
   "source": [
    "def odd():\n",
    "    for i in range(26):\n",
    "        if i%2!=0:\n",
    "            print(i,end=\" \")\n",
    "\n",
    "odd()        "
   ]
  },
  {
   "cell_type": "code",
   "execution_count": null,
   "id": "ccf38a81",
   "metadata": {},
   "outputs": [],
   "source": [
    "# Q2. Why *args and **kwargs is used in some functions? Create a function each for *args \n",
    "# and **kwargs to demonstrate their use.\n",
    "\n",
    "*args and **kwargs is used when number of arguments is unknown in a function.Any number \n",
    "of arguments can be passed."
   ]
  },
  {
   "cell_type": "code",
   "execution_count": 2,
   "id": "517c8cd9",
   "metadata": {},
   "outputs": [
    {
     "name": "stdout",
     "output_type": "stream",
     "text": [
      "abc\n",
      "mnp\n",
      "kky\n",
      "swr\n"
     ]
    }
   ],
   "source": [
    "def print_names(*args):\n",
    "    for i in args:\n",
    "        print(i)\n",
    "        \n",
    "print_names(\"abc\",\"mnp\",\"kky\",\"swr\")"
   ]
  },
  {
   "cell_type": "code",
   "execution_count": 9,
   "id": "52f2d8e7",
   "metadata": {},
   "outputs": [
    {
     "name": "stdout",
     "output_type": "stream",
     "text": [
      "aa 12\n",
      "kk 13\n"
     ]
    }
   ],
   "source": [
    "def name_marks(**kwargs):\n",
    "    for i,j in kwargs.items():\n",
    "        print(i,j)\n",
    "        \n",
    "name_marks(aa=12,kk=13)\n",
    "# kwargs takes values in key-value pairs"
   ]
  },
  {
   "cell_type": "code",
   "execution_count": null,
   "id": "4a75b087",
   "metadata": {},
   "outputs": [],
   "source": [
    "# Q3. What is an iterator in python? Name the method used to initialise the iterator object \n",
    "# and the method used for iteration. Use these methods to print the first five elements \n",
    "# of the given list [2, 4, 6, 8, 10, 12, 14, 16,18, 20].\n",
    "iterator is object used to iterate over values\n",
    "for loop, while loop is used for iteration"
   ]
  },
  {
   "cell_type": "code",
   "execution_count": 10,
   "id": "0b02164d",
   "metadata": {},
   "outputs": [
    {
     "name": "stdout",
     "output_type": "stream",
     "text": [
      "2 4 6 8 10 "
     ]
    }
   ],
   "source": [
    "l = [2, 4, 6, 8, 10, 12, 14, 16,18, 20]\n",
    "for i in range(5):\n",
    "    print(l[i],end=\" \")"
   ]
  },
  {
   "cell_type": "code",
   "execution_count": null,
   "id": "bd0e532e",
   "metadata": {},
   "outputs": [],
   "source": [
    "# Q4. What is a generator function in python? Why yield keyword is used? \n",
    "# Give an example of a generator function.\n",
    "generator function produces sequence of values. \n",
    "yield creates generator function."
   ]
  },
  {
   "cell_type": "code",
   "execution_count": 11,
   "id": "ae723f5d",
   "metadata": {},
   "outputs": [
    {
     "data": {
      "text/plain": [
       "<function __main__.generator_function()>"
      ]
     },
     "execution_count": 11,
     "metadata": {},
     "output_type": "execute_result"
    }
   ],
   "source": [
    "def generator_function():\n",
    "    for i in range(5):\n",
    "        yield i\n",
    "generator_function  #returned a generator object"
   ]
  },
  {
   "cell_type": "code",
   "execution_count": 13,
   "id": "d4cd10ce",
   "metadata": {},
   "outputs": [
    {
     "name": "stdout",
     "output_type": "stream",
     "text": [
      "0\n",
      "1\n",
      "2\n",
      "3\n",
      "4\n"
     ]
    }
   ],
   "source": [
    "for i in generator_function():\n",
    "    print(i)\n",
    "# values can be printed by using for loop"
   ]
  },
  {
   "cell_type": "code",
   "execution_count": 19,
   "id": "ab0e732e",
   "metadata": {},
   "outputs": [],
   "source": [
    "# Q5. Create a generator function for prime numbers less than 1000. \n",
    "# Use the next() method to print the first 20 prime numbers.\n",
    "\n",
    "def prime():\n",
    "    for i in range(1,1000):\n",
    "        if i>1:\n",
    "            for num in range(2,i):\n",
    "                if i%num==0:\n",
    "                    break\n",
    "            else:\n",
    "                yield i\n",
    "                \n",
    "        \n"
   ]
  },
  {
   "cell_type": "code",
   "execution_count": 20,
   "id": "4db136cc",
   "metadata": {},
   "outputs": [
    {
     "name": "stdout",
     "output_type": "stream",
     "text": [
      "2 3 5 7 11 13 17 19 23 29 31 37 41 43 47 53 59 61 67 71 73 79 83 89 97 101 103 107 109 113 127 131 137 139 149 151 157 163 167 173 179 181 191 193 197 199 211 223 227 229 233 239 241 251 257 263 269 271 277 281 283 293 307 311 313 317 331 337 347 349 353 359 367 373 379 383 389 397 401 409 419 421 431 433 439 443 449 457 461 463 467 479 487 491 499 503 509 521 523 541 547 557 563 569 571 577 587 593 599 601 607 613 617 619 631 641 643 647 653 659 661 673 677 683 691 701 709 719 727 733 739 743 751 757 761 769 773 787 797 809 811 821 823 827 829 839 853 857 859 863 877 881 883 887 907 911 919 929 937 941 947 953 967 971 977 983 991 997 "
     ]
    }
   ],
   "source": [
    "for i in prime():\n",
    "    print(i , end=\" \")"
   ]
  },
  {
   "cell_type": "code",
   "execution_count": null,
   "id": "9b1c41a1",
   "metadata": {},
   "outputs": [],
   "source": []
  }
 ],
 "metadata": {
  "kernelspec": {
   "display_name": "Python 3 (ipykernel)",
   "language": "python",
   "name": "python3"
  },
  "language_info": {
   "codemirror_mode": {
    "name": "ipython",
    "version": 3
   },
   "file_extension": ".py",
   "mimetype": "text/x-python",
   "name": "python",
   "nbconvert_exporter": "python",
   "pygments_lexer": "ipython3",
   "version": "3.9.12"
  }
 },
 "nbformat": 4,
 "nbformat_minor": 5
}
