{
 "cells": [
  {
   "cell_type": "code",
   "execution_count": null,
   "id": "36435ab5",
   "metadata": {},
   "outputs": [],
   "source": [
    "# Q1: What is Matplotlib? Why is it used? Name five plots that can be plotted using the Pyplot \n",
    "# module of Matplotlib.\n",
    "Matplotlib is a library in python.\n",
    "It is used to plot various graphs to visualize information in graphical manner.\n",
    "Pyplot is a submodule in matplotlib.\n",
    "Under pyplot module we can plot graphs like:\n",
    "    1. line graphs\n",
    "    2. scatter plots\n",
    "    3. histograms\n",
    "    4. bar chart\n",
    "    5. pie chart\n",
    "We can also plot 3d graphs in matplotlib.pyplot"
   ]
  },
  {
   "cell_type": "code",
   "execution_count": null,
   "id": "2f917730",
   "metadata": {},
   "outputs": [],
   "source": [
    "# Q2: What is a scatter plot? Use the following code to generate data for x and y. Using this \n",
    "# generated data plot a scatter plot.\n",
    "# Note: Also add title, xlabel, and ylabel to the plot.\n",
    "Scatter plot is used to show data points along x and y axis. It only gives the points. \n",
    "It can be used to plot 3d plots as well."
   ]
  },
  {
   "cell_type": "code",
   "execution_count": 6,
   "id": "17c589a1",
   "metadata": {},
   "outputs": [],
   "source": [
    "import numpy as np\n",
    "import matplotlib.pyplot as plt"
   ]
  },
  {
   "cell_type": "code",
   "execution_count": 10,
   "id": "f713150a",
   "metadata": {},
   "outputs": [],
   "source": [
    "np.random.seed(3)\n",
    "x = 3 + np.random.normal(0, 2, 50)\n",
    "y = 3 + np.random.normal(0, 2, len(x))"
   ]
  },
  {
   "cell_type": "code",
   "execution_count": 11,
   "id": "e04252fe",
   "metadata": {},
   "outputs": [
    {
     "data": {
      "text/plain": [
       "(array([ 6.57725695,  3.8730197 ,  3.19299494, -0.72698541,  2.44522359,\n",
       "         2.29048204,  2.83451704,  1.74599865,  2.91236366,  2.04556394,\n",
       "         0.37227049,  4.76924476,  4.76263608,  6.41914613,  3.10006728,\n",
       "         2.19064517,  1.9092801 , -0.09295463,  4.96473487,  0.79786474,\n",
       "         0.62990695,  2.5887002 ,  5.97229671,  3.47343253,  0.95242972,\n",
       "         1.5740136 ,  4.25048993,  2.67897327,  1.4623273 ,  2.53993856,\n",
       "         4.49011253,  6.95222157,  0.51175334,  1.74716618,  1.39246781,\n",
       "        -1.83816635,  1.15241596,  0.95224848,  5.24795592,  2.73617153,\n",
       "        -0.24657089,  4.2933509 ,  2.28745848, -0.48628207,  1.80670072,\n",
       "         1.82281124,  1.2522354 ,  3.05942763, -1.49651554,  2.46447627]),\n",
       " array([ 5.02636688,  4.70559568,  5.216375  ,  5.23878131,  5.97508626,\n",
       "         0.76339863,  4.69166681, -0.72177906,  1.79422979, -0.82894409,\n",
       "         5.09629502,  5.66747564,  2.60517064,  6.54929006,  1.65054498,\n",
       "         3.30123373,  3.30589141,  0.87160945,  3.87589322,  6.87795692,\n",
       "         0.95013825,  4.79867689,  2.6909863 ,  6.53925461,  3.9675767 ,\n",
       "         4.3524328 ,  4.28632656,  3.49817341,  0.20847299,  5.78332582,\n",
       "         0.25866197,  3.47712638,  4.22815418,  1.32417545,  3.29012643,\n",
       "         5.33576457,  2.95179106,  1.22268516, -2.8314755 ,  1.05631899,\n",
       "         1.81784252,  1.96716526,  1.08000764,  3.75459047,  1.85058316,\n",
       "         2.78109133,  4.3581432 ,  1.28912566,  2.39958785,  7.31629868]))"
      ]
     },
     "execution_count": 11,
     "metadata": {},
     "output_type": "execute_result"
    }
   ],
   "source": [
    "x,y"
   ]
  },
  {
   "cell_type": "code",
   "execution_count": 12,
   "id": "15ae1b5b",
   "metadata": {},
   "outputs": [
    {
     "data": {
      "text/plain": [
       "Text(0.5, 1.0, 'Scatter plot')"
      ]
     },
     "execution_count": 12,
     "metadata": {},
     "output_type": "execute_result"
    },
    {
     "data": {
      "image/png": "[encoded data removed]",
      "text/plain": [
       "<Figure size 432x288 with 1 Axes>"
      ]
     },
     "metadata": {
      "needs_background": "light"
     },
     "output_type": "display_data"
    }
   ],
   "source": [
    "plt.scatter(x,y)\n",
    "plt.xlabel(\"x-axis points\")\n",
    "plt.ylabel(\"y-axis points\")\n",
    "plt.title(\"Scatter plot\")"
   ]
  },
  {
   "cell_type": "code",
   "execution_count": 14,
   "id": "5facc4f2",
   "metadata": {},
   "outputs": [],
   "source": [
    "# Q3: Why is the subplot() function used? Draw four line plots using the subplot() function.\n",
    "# Use the following data:\n",
    "# For line 1: \n",
    "x1 = np.array([0, 1, 2, 3, 4, 5]) \n",
    "y1 = np.array([0, 100, 200, 300, 400, 500])\n",
    "# For line 2: \n",
    "x2 = np.array([0, 1, 2, 3, 4, 5])\n",
    "y2 = np.array([50, 20, 40, 20, 60, 70])\n",
    "# For line 3: \n",
    "x3 = np.array([0, 1, 2, 3, 4, 5]) \n",
    "y3 = np.array([10, 20, 30, 40, 50, 60])\n",
    "# For line 4: \n",
    "x4 = np.array([0, 1, 2, 3, 4, 5]) \n",
    "y4 = np.array([200, 350, 250, 550, 450, 150])"
   ]
  },
  {
   "cell_type": "code",
   "execution_count": null,
   "id": "e92ba751",
   "metadata": {},
   "outputs": [],
   "source": [
    "subplot() is used to draw number of plots under 1 figure."
   ]
  },
  {
   "cell_type": "code",
   "execution_count": 21,
   "id": "f13ebc20",
   "metadata": {},
   "outputs": [
    {
     "data": {
      "text/plain": [
       "[<matplotlib.lines.Line2D at 0x2174cf981f0>]"
      ]
     },
     "execution_count": 21,
     "metadata": {},
     "output_type": "execute_result"
    },
    {
     "data": {
      "image/png": "[encoded data removed]",
      "text/plain": [
       "<Figure size 432x288 with 4 Axes>"
      ]
     },
     "metadata": {
      "needs_background": "light"
     },
     "output_type": "display_data"
    }
   ],
   "source": [
    "plt.figure()\n",
    "plt.subplot(221)  #221 is 2 rows, 2 columns and plot number1\n",
    "plt.plot(x1,y1)\n",
    "plt.subplot(222)\n",
    "plt.plot(x2,y2)\n",
    "plt.subplot(223)\n",
    "plt.plot(x3,y3)\n",
    "plt.subplot(224)\n",
    "plt.plot(x4,y4)"
   ]
  },
  {
   "cell_type": "code",
   "execution_count": 22,
   "id": "fb7ba702",
   "metadata": {},
   "outputs": [],
   "source": [
    "# Q4: What is a bar plot? Why is it used? Using the following data plot a bar plot \n",
    "#     and a horizontal bar plot.\n",
    "company = np.array([\"Apple\", \"Microsoft\", \"Google\", \"AMD\"])\n",
    "profit = np.array([3000, 8000, 1000, 10000])"
   ]
  },
  {
   "cell_type": "code",
   "execution_count": null,
   "id": "eda1312c",
   "metadata": {},
   "outputs": [],
   "source": [
    "Bar plot is a chart that has rectangular bars to show information. One axis has \n",
    "categorical information and other has values. It can represented horizontally or vertically"
   ]
  },
  {
   "cell_type": "code",
   "execution_count": 25,
   "id": "9f42c803",
   "metadata": {},
   "outputs": [
    {
     "data": {
      "text/plain": [
       "Text(0, 0.5, 'profits')"
      ]
     },
     "execution_count": 25,
     "metadata": {},
     "output_type": "execute_result"
    },
    {
     "data": {
      "image/png": "[encoded data removed]",
      "text/plain": [
       "<Figure size 432x288 with 1 Axes>"
      ]
     },
     "metadata": {
      "needs_background": "light"
     },
     "output_type": "display_data"
    }
   ],
   "source": [
    "plt.bar(company,profit)\n",
    "plt.xlabel(\"Company\")\n",
    "plt.ylabel(\"profits\")"
   ]
  },
  {
   "cell_type": "code",
   "execution_count": 26,
   "id": "9678e701",
   "metadata": {},
   "outputs": [
    {
     "data": {
      "text/plain": [
       "Text(0.5, 0, 'profits')"
      ]
     },
     "execution_count": 26,
     "metadata": {},
     "output_type": "execute_result"
    },
    {
     "data": {
      "image/png": "[encoded data removed]",
      "text/plain": [
       "<Figure size 432x288 with 1 Axes>"
      ]
     },
     "metadata": {
      "needs_background": "light"
     },
     "output_type": "display_data"
    }
   ],
   "source": [
    "plt.barh(company,profit)\n",
    "plt.ylabel(\"Company\")\n",
    "plt.xlabel(\"profits\")\n",
    "# Horizontal bar plot"
   ]
  },
  {
   "cell_type": "code",
   "execution_count": 27,
   "id": "ad8b998e",
   "metadata": {},
   "outputs": [],
   "source": [
    "# Q5: What is a box plot? Why is it used? Using the following data plot a box plot.\n",
    "box1 = np.random.normal(100, 10, 200)\n",
    "box2 = np.random.normal(90, 20, 200)"
   ]
  },
  {
   "cell_type": "code",
   "execution_count": null,
   "id": "57b5f692",
   "metadata": {},
   "outputs": [],
   "source": [
    "Box plot shows summary of the set of data values having properties like minimum, first \n",
    "quartile, median, third quartile and maximum.\n",
    "A box is created from the first quartile to the third quartile."
   ]
  },
  {
   "cell_type": "code",
   "execution_count": 37,
   "id": "3df830a0",
   "metadata": {},
   "outputs": [
    {
     "data": {
      "text/plain": [
       "Text(0.5, 1.0, 'Box1')"
      ]
     },
     "execution_count": 37,
     "metadata": {},
     "output_type": "execute_result"
    },
    {
     "data": {
      "image/png": "[encoded data removed]",
      "text/plain": [
       "<Figure size 432x288 with 1 Axes>"
      ]
     },
     "metadata": {
      "needs_background": "light"
     },
     "output_type": "display_data"
    }
   ],
   "source": [
    "plt.boxplot(box1)\n",
    "plt.title(\"Box1\")\n",
    "# The circles between range 125 to 130 are outliers."
   ]
  },
  {
   "cell_type": "code",
   "execution_count": 38,
   "id": "7f463664",
   "metadata": {},
   "outputs": [
    {
     "data": {
      "text/plain": [
       "Text(0.5, 1.0, 'Box2')"
      ]
     },
     "execution_count": 38,
     "metadata": {},
     "output_type": "execute_result"
    },
    {
     "data": {
      "image/png": "[encoded data removed]",
      "text/plain": [
       "<Figure size 432x288 with 1 Axes>"
      ]
     },
     "metadata": {
      "needs_background": "light"
     },
     "output_type": "display_data"
    }
   ],
   "source": [
    "plt.boxplot(box2)\n",
    "plt.title(\"Box2\")"
   ]
  },
  {
   "cell_type": "code",
   "execution_count": 40,
   "id": "9ac31ef0",
   "metadata": {},
   "outputs": [
    {
     "data": {
      "text/plain": [
       "Text(0.5, 1.0, 'Boxplots')"
      ]
     },
     "execution_count": 40,
     "metadata": {},
     "output_type": "execute_result"
    },
    {
     "data": {
      "image/png": "[encoded data removed]",
      "text/plain": [
       "<Figure size 432x288 with 1 Axes>"
      ]
     },
     "metadata": {
      "needs_background": "light"
     },
     "output_type": "display_data"
    }
   ],
   "source": [
    "# Boxplot can be represented in 1 figure as well. This helps to compare data.\n",
    "box = [box1,box2]\n",
    "plt.figure()\n",
    "plt.boxplot(box)\n",
    "plt.title(\"Boxplots\")"
   ]
  },
  {
   "cell_type": "code",
   "execution_count": null,
   "id": "c5d9fd04",
   "metadata": {},
   "outputs": [],
   "source": []
  }
 ],
 "metadata": {
  "kernelspec": {
   "display_name": "Python 3 (ipykernel)",
   "language": "python",
   "name": "python3"
  },
  "language_info": {
   "codemirror_mode": {
    "name": "ipython",
    "version": 3
   },
   "file_extension": ".py",
   "mimetype": "text/x-python",
   "name": "python",
   "nbconvert_exporter": "python",
   "pygments_lexer": "ipython3",
   "version": "3.9.12"
  }
 },
 "nbformat": 4,
 "nbformat_minor": 5
}
