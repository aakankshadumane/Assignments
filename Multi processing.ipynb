{
 "cells": [
  {
   "cell_type": "code",
   "execution_count": null,
   "id": "80daa8a6",
   "metadata": {},
   "outputs": [],
   "source": [
    "# Q1 What is multiprocessing in python? Why is it useful?\n",
    "Multiprocessing refers to the ability of a system to support more than one processor at \n",
    "the same time. Applications in a multiprocessing system are broken to smaller routines \n",
    "that run independently. The operating system allocates these threads to the processors \n",
    "improving performance of the system.\n",
    "Consider a computer system with a single processor. If it is assigned several processes at \n",
    "the same time, it will have to interrupt each task and switch briefly to another, \n",
    "to keep all of the processes going. So multiprocessing can use "
   ]
  },
  {
   "cell_type": "code",
   "execution_count": null,
   "id": "0c496a0b",
   "metadata": {},
   "outputs": [],
   "source": [
    "### Q2 What are the differences between multiprocessing and multithreading?\n",
    "\n",
    "In Multiprocessing, Multiple processors/CPUs are added to the system to increase the \n",
    "computing power of the system. Multiple processes are executed in a parallel fashion. \n",
    "Multiprocessing can be classified into symmetric and asymmetric multiprocessing. \n",
    "Process creation is time-consuming.In multiprocessing, many processes are executed simultaneously. A separate address space is created for each process.Multiprocessing requires a significant amount of time and large number of resources.\n",
    "\n",
    "\n",
    "In Multi threading, Multiple threads are created of a process to be executed in a parallel \n",
    "fashion to increase the throughput of the system. Thread creation is easy and is time saver. \n",
    "In multithreading, many threads are executed simultaneously. A common address space is used \n",
    "for all the threads. Multithreading requires less time and few resources to create."
   ]
  },
  {
   "cell_type": "code",
   "execution_count": 4,
   "id": "de949923",
   "metadata": {},
   "outputs": [
    {
     "name": "stdout",
     "output_type": "stream",
     "text": [
      "<Process name='Process-5' parent=9388 initial>\n",
      "Done!\n"
     ]
    }
   ],
   "source": [
    "# Q3 Write a python code to create a process using the multiprocessing module.\n",
    "# importing the multiprocessing module\n",
    "# importing the multiprocessing module\n",
    "import multiprocessing\n",
    "\n",
    "def print_cube(num):\n",
    "    print(\"Cube: {}\".format(num * num * num))\n",
    "\n",
    "def print_square(num):\n",
    "    print(\"Square: {}\".format(num * num))\n",
    "\n",
    "if __name__ == \"__main__\":\n",
    "    p1 = multiprocessing.Process(target=print_square, args=(10, ))\n",
    "    p2 = multiprocessing.Process(target=print_cube, args=(8, ))\n",
    "\n",
    "    \n",
    "\t# starting process 1\n",
    "    p1.start()\n",
    "\t# starting process 2\n",
    "    p2.start()\n",
    "\n",
    "\t# wait until process 1 is finished\n",
    "    p1.join()\n",
    "\t# wait until process 2 is finished\n",
    "    p2.join()\n",
    "\n",
    "\t# both processes finished\n",
    "    print(\"Done!\")\n"
   ]
  },
  {
   "cell_type": "code",
   "execution_count": null,
   "id": "29aff211",
   "metadata": {},
   "outputs": [],
   "source": [
    "# Q4 What is a multiprocessing pool in python? Why is it used?\n",
    "The Python Multiprocessing Pool class allows you to create and manage process pools in Python.\n",
    "\n",
    "Python multiprocessing Pool can be used for parallel execution of a function across multiple \n",
    "input values, distributing the input data across processes."
   ]
  },
  {
   "cell_type": "code",
   "execution_count": null,
   "id": "e9c11c8a",
   "metadata": {},
   "outputs": [],
   "source": [
    "# Q5 How can we create a pool of worker processes in python using the multiprocessing module?\n",
    "The multiprocessing.pool.Pool in Python provides a pool of reusable processes. The number of \n",
    "worker processes can be configured by setting process argument in constructor. \n",
    "pool = multiprocessing.pool.Pool(processes=4) or\n",
    "pool = multiprocessing.pool.Pool(4)"
   ]
  },
  {
   "cell_type": "code",
   "execution_count": 12,
   "id": "71f7a977",
   "metadata": {},
   "outputs": [
    {
     "name": "stdout",
     "output_type": "stream",
     "text": [
      "Process ID: 9388, Number: 1\n",
      "Process ID: 9388, Number: 2\n",
      "Process ID: 9388, Number: 3\n",
      "Process ID: 9388, Number: 4\n"
     ]
    }
   ],
   "source": [
    "# Q6 Write a python program to create 4 processes, each process should print a different number \n",
    "# using the multiprocessing module in python.\n",
    "import concurrent.futures\n",
    "\n",
    "def print_number(number):\n",
    "    process_id = multiprocessing.current_process().pid\n",
    "    result = f\"Process ID: {process_id}, Number: {number}\"\n",
    "    return result\n",
    "\n",
    "if __name__ == '__main__':\n",
    "    numbers = [1, 2, 3, 4]\n",
    "    with concurrent.futures.ThreadPoolExecutor() as executor:\n",
    "        results = executor.map(print_number, numbers)\n",
    "        for result in results:\n",
    "            print(result)\n"
   ]
  },
  {
   "cell_type": "code",
   "execution_count": null,
   "id": "64705ebd",
   "metadata": {},
   "outputs": [],
   "source": []
  }
 ],
 "metadata": {
  "kernelspec": {
   "display_name": "Python 3 (ipykernel)",
   "language": "python",
   "name": "python3"
  },
  "language_info": {
   "codemirror_mode": {
    "name": "ipython",
    "version": 3
   },
   "file_extension": ".py",
   "mimetype": "text/x-python",
   "name": "python",
   "nbconvert_exporter": "python",
   "pygments_lexer": "ipython3",
   "version": "3.9.12"
  }
 },
 "nbformat": 4,
 "nbformat_minor": 5
}
