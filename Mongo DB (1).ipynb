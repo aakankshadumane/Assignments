{
 "cells": [
  {
   "cell_type": "code",
   "execution_count": null,
   "id": "c8a12ec0",
   "metadata": {},
   "outputs": [],
   "source": [
    "#Q1 What is MongoDB? Explain non-relational databases in short. In which scenarios it is preferred to use MongoDB over SQL databases?\n",
    "\n",
    "MongoDB is a document-oriented NoSQL database. It is designed to store and manage large volumes \n of unstructured or semi-structured data.\n",
    "Non-relational databases handle large amounts of unstructured or semi-structured data.It has various \n data models, such as key-value, document, column-family, and graph, to suit different types \n of data and use cases.They often prioritize performance and can handle \n large amounts of data and high-speed data ingestion and retrieval.\n",
    "\n",
    "MongoDB is preferred over SQL databases in the following scenarios:\n",
    "1. Unstructured or Semi-structured Data\n",
    "2. MongoDB's document-oriented data model makes it suitable for use cases involving complex data structures, \n nested data, and hierarchical relationships."
   ]
  },
  {
   "cell_type": "code",
   "execution_count": null,
   "id": "34b695c2",
   "metadata": {},
   "outputs": [],
   "source": [
    "# Q2 State and Explain the features of MongoDB.\n",
    "Document-Oriented:Documents are similar to JSON objects and can have nested structures,\n making it easy to represent complex data models. \n",
    "Schema Flexibility: his flexibility enables developers to iterate and evolve \n the data model without downtime or schema migrations. \n",
    "Scalability and High Availability: MongoDB is designed to scale horizontally \n across multiple servers or nodes, allowing for high-volume data storage and handling.\n",
    "Querying and Indexing: It provides support for rich queries, including filtering, \n sorting, and field projection. MongoDB also supports secondary indexes.\n",
    "Replication and Fault Tolerance:MongoDB supports replica sets, which are self-healing \n clusters consisting of primary and multiple secondary nodes. \n Replica sets provide automatic failover, data redundancy, and fault tolerance. \n If the primary node fails, one of the secondary nodes automatically takes \n over as the new primary, ensuring high availability and minimizing downtime."
   ]
  },
  {
   "cell_type": "code",
   "execution_count": null,
   "id": "d7e2480c",
   "metadata": {},
   "outputs": [],
   "source": [
    "# Q3 Write a code to connect MongoDB to Python. Also, create a database and a collection in MongoDB.\n",
    "import pymongo\n",
    "\n",
    "# Establish the connection\n",
    "client = pymongo.MongoClient(\"mongodb://localhost:27017/\")\n",
    "\n",
    "# Create or access a database\n",
    "database = client[\"your_database\"]\n",
    "\n",
    "# Create or access a collection\n",
    "collection = database[\"your_collection\"]\n",
    "\n",
    "# Test data\n",
    "data = {\n",
    "    \"name\": \"John Doe\",\n",
    "    \"age\": 30,\n",
    "    \"email\": \"johndoe@example.com\"\n",
    "}\n",
    "\n",
    "# Insert a document into the collection\n",
    "inserted_doc = collection.insert_one(data)\n",
    "\n",
    "# Print the inserted document's ID\n",
    "print(\"Inserted document ID:\", inserted_doc.inserted_id)\n",
    "\n",
    "# Close the connection\n",
    "client.close()\n"
   ]
  },
  {
   "cell_type": "code",
   "execution_count": null,
   "id": "fdebec05",
   "metadata": {},
   "outputs": [],
   "source": [
    "# Q4 Using the database and the collection created in question number 3, write a code to insert \n",
    "# one record, and insert many records. Use the find() and find_one() methods to print the \n",
    "# inserted record. Insert one record\n",
    "record_one = {\n",
    "    \"name\": \"John Doe\",\n",
    "    \"age\": 30,\n",
    "    \"email\": \"johndoe@example.com\"\n",
    "}\n",
    "inserted_one = collection.insert_one(record_one)\n",
    "print(\"Inserted record ID (One):\", inserted_one.inserted_id)\n",
    "\n",
    "# Insert many records\n",
    "records_many = [\n",
    "    {\n",
    "        \"name\": \"Jane Smith\",\n",
    "        \"age\": 25,\n",
    "        \"email\": \"janesmith@example.com\"\n",
    "    },\n",
    "    {\n",
    "        \"name\": \"Mike Johnson\",\n",
    "        \"age\": 35,\n",
    "        \"email\": \"mikejohnson@example.com\"\n",
    "    }\n",
    "]\n",
    "inserted_many = collection.insert_many(records_many)\n",
    "print(\"Inserted record IDs (Many):\", inserted_many.inserted_ids)\n",
    "\n",
    "# Find and print the inserted records\n",
    "print(\"\\nInserted Record (One):\")\n",
    "print(collection.find_one({\"_id\": inserted_one.inserted_id}))\n",
    "\n",
    "print(\"\\nInserted Records (Many):\")\n",
    "for record in collection.find({\"_id\": {\"$in\": inserted_many.inserted_ids}}):\n",
    "    print(record)\n"
   ]
  },
  {
   "cell_type": "code",
   "execution_count": null,
   "id": "3ff2a609",
   "metadata": {},
   "outputs": [],
   "source": [
    "# Q5 Explain how you can use the find() method to query the MongoDB database. Write a simple code to\n",
    "# demonstrate this.\n",
    "\n",
    "The find() method in MongoDB is used to query and retrieve documents from a collection \n",
    "based on specified criteria.\n",
    "It allows you to filter and retrieve documents that match a specific query condition.\n",
    "\n",
    "# Example: Retrieve all documents where the age is greater than 30\n",
    "query = {\"age\": {\"$gt\": 30}}\n",
    "documents = collection.find(query)\n",
    "\n",
    "# Print the retrieved documents\n",
    "for document in documents:\n",
    "    print(document)"
   ]
  },
  {
   "cell_type": "code",
   "execution_count": null,
   "id": "f2728741",
   "metadata": {},
   "outputs": [],
   "source": [
    "# Q6 Explain the sort() method. Give an example to demonstrate sorting in MongoDB.\n",
    "The sort() method in MongoDB is used to sort the documents in a collection based on \n",
    "one or more fields. \n",
    "It allows you to specify the sorting order (ascending or descending) and the field(s) to sort on.\n",
    "# Example: Retrieve and sort documents based on the age field in descending order\n",
    "query = {}  # Empty query to retrieve all documents\n",
    "sort_order = [(\"age\", -1)]  # Sort by age in descending order\n",
    "documents = collection.find(query).sort(sort_order)\n",
    "\n",
    "# Print the retrieved documents\n",
    "for document in documents:\n",
    "    print(document)"
   ]
  },
  {
   "cell_type": "code",
   "execution_count": null,
   "id": "76c77e37",
   "metadata": {},
   "outputs": [],
   "source": [
    "# Q7 Explain why delete_one(), delete_many(), and drop() is used.\n",
    "delete_one():\n",
    "The delete_one() method is used to delete a single document that matches a specified\n",
    "filter from a collection. It removes the first document that matches the given filter criteria.\n",
    "\n",
    "collection.delete_one(filter)\n",
    "\n",
    "delete_many():\n",
    "The delete_many() method is used to delete multiple documents that match a specified filter\n",
    "from a collection.It removes all documents that match the given filter criteria.\n",
    "\n",
    "collection.delete_many(filter)\n",
    "\n",
    "drop():\n",
    "The drop() method is used to remove an entire collection from the database. It effectively \n",
    "deletes the collection along with all its documents.\n",
    "\n",
    "collection.drop()\n"
   ]
  }
 ],
 "metadata": {
  "kernelspec": {
   "display_name": "Python 3 (ipykernel)",
   "language": "python",
   "name": "python3"
  },
  "language_info": {
   "codemirror_mode": {
    "name": "ipython",
    "version": 3
   },
   "file_extension": ".py",
   "mimetype": "text/x-python",
   "name": "python",
   "nbconvert_exporter": "python",
   "pygments_lexer": "ipython3",
   "version": "3.9.12"
  }
 },
 "nbformat": 4,
 "nbformat_minor": 5
}
