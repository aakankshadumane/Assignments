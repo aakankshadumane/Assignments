{
 "cells": [
  {
   "cell_type": "code",
   "execution_count": null,
   "id": "1ff56d01",
   "metadata": {},
   "outputs": [],
   "source": [
    "# Q1- Explain the following with an example\n",
    "# 1) Artificial Intelligence\n",
    "It involves the development of algorithms and computer programs that can perform tasks that typically require human \n",
    "intelligence such as visual perception, speech recognition, decision-making, and language translation.The main focus \n",
    "of artificial intelligence is towards understanding human behavior and performance. This can be done by creating \n",
    "computers with human-like intelligence and capabilities. This includes natural language processing, facial analysis \n",
    "and robotics. \n",
    "example :  Siri, customer service via chatbots\n",
    "Machine Translation like Google Translate\n",
    "# 2) Machine Learning,\n",
    "Machine Learning is a branch of artificial intelligence that develops algorithms by learning the hidden patterns of the \n",
    "datasets used it to make predictions on new similar type data, without being explicitly programmed for each task.\n",
    "It is basically a process of training a piece of software called an algorithm or model, to make useful predictions from data. \n",
    "example: Google’s search algorithms\n",
    "    Netflix recommender System\n",
    "# 3) Deep Learning\n",
    "Deep learning is a subset of machine learning, which is essentially a neural network with three or more layers. It is\n",
    "capable of learning complex patterns and relationships within data. In deep learning, we don’t need to explicitly \n",
    "program everything.It is Better for complex  task like image processing, natural language processing, etc.\n",
    "example : Automatic text generation\n",
    "    Speech Recognition\n"
   ]
  },
  {
   "cell_type": "code",
   "execution_count": null,
   "id": "7d4e10f7",
   "metadata": {},
   "outputs": [],
   "source": [
    "# Q2- What is supervised learning? List some examples of supervised learning\n",
    "The model or algorithm is presented with example inputs and their desired outputs and then finds patterns and \n",
    "connections between the input and the output. The training process continues until the model achieves the desired \n",
    "level of accuracy on the training data. \n",
    "Example:\n",
    "Image Classification: You train with images/labels. Then in the future, you give a new image expecting that the \n",
    "computer will recognize the new object."
   ]
  },
  {
   "cell_type": "code",
   "execution_count": null,
   "id": "9f318f7d",
   "metadata": {},
   "outputs": [],
   "source": [
    "# Q3- What is unsupervised learning? List some examples of unsupervised learning.\n",
    "No labels are given to the learning algorithm, leaving it on its own to find structure in its input. It is used \n",
    "for clustering populations in different groups. \n",
    "Example:\n",
    "Clustering: You ask the computer to separate similar data into clusters, this is essential in research and science.\n",
    "Generative Models: After a model captures the probability distribution of your input data, it will be able to \n",
    "generate more data. This can be very useful to make your classifier more robust."
   ]
  },
  {
   "cell_type": "code",
   "execution_count": null,
   "id": "f51061de",
   "metadata": {},
   "outputs": [],
   "source": [
    "# Q4- What is the difference between AI, ML, DL, and DS?\n",
    "Artificial Intelligence is a branch of computer science. It involves building smart machines capable of performing \n",
    "tasks that need human intelligence.It Chooses algorithms basis the complexity of the problem, contributing toward cost\n",
    "and time saving\n",
    "\n",
    "Machine Learning is the subsection of artificial intelligence based on algorithms and data usage. Machine learning \n",
    "requires complex math and a lot of coding to achieve the desired results.It Divides a given problem into subsets, \n",
    "solves it individually, and gives a combined output\n",
    "\n",
    "Deep learning is a subfield of artificial intelligence. It uses a multi-layered structure of algorithms called a \n",
    "neural network. DL algorithms also need data to learn and solve problems. We can also call it a subfield of machine learning.\n",
    "Analyzes complex problems in its hidden layers and performs automatic feature extraction\n",
    "\n",
    "Data science is a discipline that uses various technologies and methods to analyze data. It combines computational science, \n",
    "statistics, mathematics, and company or business knowledge.Collect, analyze, and define data. DS uses analytics-based\n",
    "approaches to extract knowledge"
   ]
  },
  {
   "cell_type": "code",
   "execution_count": null,
   "id": "08ebecf6",
   "metadata": {},
   "outputs": [],
   "source": [
    "# Q5- What are the main differences between supervised, unsupervised, and semi-supervised learning?\n",
    "Main Differnce is:\n",
    "Supervised has labelled input data.It is used to build a model that generalizes well on future unseen data.Its problems\n",
    "can be split further into classification or regression problem according to type of output variables. \n",
    "\n",
    "Unsupervised does not have labelled input data.It is used for exploring and reporting underlying insights and structure of data\n",
    "\n",
    "Semi supervised is lies in between supervised and unsupervised. It has mixture of labeled and unlabeled data.\n",
    "When such data is given, unsupervised learning technique is used and followed by supervised learning. Data is\n",
    "divided into clusters and missing labels are predicted"
   ]
  },
  {
   "cell_type": "code",
   "execution_count": null,
   "id": "bb37211f",
   "metadata": {},
   "outputs": [],
   "source": [
    "# Q6- What is train, test and validation split? Explain the importance of each term.\n",
    "Data is divided into 3 parts before providing it to the machine learning model.\n",
    "Training data is the set of the data on which the actual training takes place. Validation split helps to improve \n",
    "the model performance by fine-tuning the model after each epoch. The test set informs us about the final accuracy of\n",
    "the model after completing the training phase."
   ]
  },
  {
   "cell_type": "code",
   "execution_count": null,
   "id": "84c346ac",
   "metadata": {},
   "outputs": [],
   "source": [
    "# Q7- How can unsupervised learning be used in anomaly detection?\n",
    "Anomaly detection techniques of unsupervised nature assume that normal data points occur considerably more frequently\n",
    "than anomalous data points. This assumption is used to classify data points that occur less frequently as anomalies.\n",
    "Unsupervised learning techniques assign each data point a score instead of a label."
   ]
  },
  {
   "cell_type": "code",
   "execution_count": null,
   "id": "8b1fd04b",
   "metadata": {},
   "outputs": [],
   "source": [
    "# Q8- List down some commonly used supervised learning algorithms and unsupervised learning\n",
    "# algorithms.\n",
    "Supervised learning algorithms:\n",
    "    Linear Regression\n",
    "    Logistic Regression\n",
    "    Decision Trees\n",
    "    Random Forest\n",
    "    \n",
    "Unsupervised Learning algorithms:\n",
    "    K means clustering\n",
    "    Hierarchical Clustering\n",
    "    Apriori Algorithm"
   ]
  }
 ],
 "metadata": {
  "kernelspec": {
   "display_name": "Python 3 (ipykernel)",
   "language": "python",
   "name": "python3"
  },
  "language_info": {
   "codemirror_mode": {
    "name": "ipython",
    "version": 3
   },
   "file_extension": ".py",
   "mimetype": "text/x-python",
   "name": "python",
   "nbconvert_exporter": "python",
   "pygments_lexer": "ipython3",
   "version": "3.11.4"
  }
 },
 "nbformat": 4,
 "nbformat_minor": 5
}
