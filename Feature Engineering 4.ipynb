{
 "cells": [
  {
   "cell_type": "code",
   "execution_count": 10,
   "id": "f0ee572c",
   "metadata": {},
   "outputs": [],
   "source": [
    "import pandas as pd\n",
    "from sklearn.preprocessing import OneHotEncoder, LabelEncoder\n",
    "import warnings\n",
    "warnings.filterwarnings(\"ignore\")"
   ]
  },
  {
   "cell_type": "code",
   "execution_count": null,
   "id": "743a91b0",
   "metadata": {},
   "outputs": [],
   "source": [
    "# Q1. What is data encoding? How is it useful in data science?\n",
    "Data encoding is converting data from various formats to numerical, i.e Machine understandable.\n",
    "Data Encoding in Data Science is useful:\n",
    "    1. Handling Categorical Data - One hot encoding, label encoding are techniques to convert categorical\n",
    "    data to numerical.This data then can be supplied as an input to machine learning model.\n",
    "    2. Feature Engineering : New features can be created or existing features can be transformed.\n",
    "    timestamps can be encoded to day of week or time.\n",
    "    3. Encoding can also be used for normalizing and scaling numerical data to bring all features to a \n",
    "    similar range.\n",
    "    "
   ]
  },
  {
   "cell_type": "code",
   "execution_count": null,
   "id": "401444ef",
   "metadata": {},
   "outputs": [],
   "source": [
    "# Q2. What is nominal encoding? Provide an example of how you would use it in a real-world scenario.\n",
    "Nominal Encoding is used to convert categorical data into a numerical format. It is used where there is no inherent\n",
    "order or ranking among the categories\n",
    "Example of Nominal Encoding is One hot Encoding:\n",
    "Each categorical variable is transformed into a binary vector. Each category is represented by a unique binary code, \n",
    "where only one bit (or column) is 'hot' (set to 1) while the others are 'cold' (set to 0). This ensures that there \n",
    "is no ordinal relationship assumed between the categories.\n"
   ]
  },
  {
   "cell_type": "code",
   "execution_count": 18,
   "id": "c64a5757",
   "metadata": {},
   "outputs": [
    {
     "name": "stdout",
     "output_type": "stream",
     "text": [
      "   Gender_Female  Gender_Male  Gender_Other  City_Chicago  City_Los Angeles  \\\n",
      "0            0.0          1.0           0.0           0.0               0.0   \n",
      "1            1.0          0.0           0.0           0.0               1.0   \n",
      "2            0.0          1.0           0.0           1.0               0.0   \n",
      "3            1.0          0.0           0.0           0.0               0.0   \n",
      "4            0.0          0.0           1.0           0.0               0.0   \n",
      "\n",
      "   City_New York  City_San Francisco  \n",
      "0            1.0                 0.0  \n",
      "1            0.0                 0.0  \n",
      "2            0.0                 0.0  \n",
      "3            0.0                 1.0  \n",
      "4            1.0                 0.0  \n"
     ]
    },
    {
     "name": "stderr",
     "output_type": "stream",
     "text": [
      "D:\\Anaconda\\Install\\Lib\\site-packages\\sklearn\\preprocessing\\_encoders.py:972: FutureWarning: `sparse` was renamed to `sparse_output` in version 1.2 and will be removed in 1.4. `sparse_output` is ignored unless you leave `sparse` to its default value.\n",
      "  warnings.warn(\n"
     ]
    }
   ],
   "source": [
    "\n",
    "\n",
    "# Sample dataset\n",
    "data = {\n",
    "    'Gender': ['Male', 'Female', 'Male', 'Female', 'Other'],\n",
    "    'City': ['New York', 'Los Angeles', 'Chicago', 'San Francisco', 'New York'],\n",
    "}\n",
    "\n",
    "# Create a DataFrame from the data\n",
    "df = pd.DataFrame(data)\n",
    "\n",
    "# Initialize the OneHotEncoder\n",
    "encoder = OneHotEncoder(sparse=False)\n",
    "\n",
    "# Fit and transform the categorical columns\n",
    "encoded_cols = encoder.fit_transform(df[['Gender', 'City']])\n",
    "\n",
    "# Create a DataFrame from the encoded columns\n",
    "encoded_df = pd.DataFrame(encoded_cols, columns=encoder.get_feature_names_out(['Gender', 'City']))\n",
    "\n",
    "# Concatenate the encoded columns with the original DataFrame\n",
    "df_encoded = pd.concat([df.drop(columns=['Gender', 'City']), encoded_df], axis=1)\n",
    "\n",
    "# Display the one-hot encoded DataFrame\n",
    "print(df_encoded)\n"
   ]
  },
  {
   "cell_type": "code",
   "execution_count": null,
   "id": "3dfb4dda",
   "metadata": {},
   "outputs": [],
   "source": [
    "# Q3. In what situations is nominal encoding preferred over one-hot encoding? Provide a practical example.\n",
    "1. when there is ordinal relationships, nominal encoding will preserve the rankings instead of one hot encoding.\n",
    "ex. Education Level: School, High School, Graduate, Post Graduate. These clearly have oredre. They can be encoded\n",
    "    as 1,2,3,4\n",
    "    \n",
    "2. When there are too many categories, one hot encoding will result in too many columns and sparse matrix. here,\n",
    "nominal encoding will work best.\n",
    "ex. Dataset with column as country names. One hot encoding will rseult in each column with a country name. This \n",
    "can be computationally expensive."
   ]
  },
  {
   "cell_type": "code",
   "execution_count": null,
   "id": "ab0ad4c7",
   "metadata": {},
   "outputs": [],
   "source": [
    "# Q4. Suppose you have a dataset containing categorical data with 5 unique values. Which encoding\n",
    "# technique would you use to transform this data into a format suitable for machine learning algorithms?\n",
    "# Explain why you made this choice.\n",
    "With 5 categories, I will prefer One hot encoding.\n",
    "1. There will be assumption of order or ranking associated with it. \n",
    "2. All Information will be preserved. No DAta loss."
   ]
  },
  {
   "cell_type": "code",
   "execution_count": null,
   "id": "80fa0181",
   "metadata": {},
   "outputs": [],
   "source": [
    "# Q5. In a machine learning project, you have a dataset with 1000 rows and 5 columns. Two of the columns\n",
    "# are categorical, and the remaining three columns are numerical. If you were to use nominal encoding to\n",
    "# transform the categorical data, how many new columns would be created? Show your calculations.\n",
    "If Nominal encoding is used to transform the data of 2 columns, no new columns will be created. Total 5 columns \n",
    "will be present in the dataset\n"
   ]
  },
  {
   "cell_type": "code",
   "execution_count": 3,
   "id": "8a2a09ac",
   "metadata": {},
   "outputs": [
    {
     "data": {
      "text/html": [
       "<div>\n",
       "<style scoped>\n",
       "    .dataframe tbody tr th:only-of-type {\n",
       "        vertical-align: middle;\n",
       "    }\n",
       "\n",
       "    .dataframe tbody tr th {\n",
       "        vertical-align: top;\n",
       "    }\n",
       "\n",
       "    .dataframe thead th {\n",
       "        text-align: right;\n",
       "    }\n",
       "</style>\n",
       "<table border=\"1\" class=\"dataframe\">\n",
       "  <thead>\n",
       "    <tr style=\"text-align: right;\">\n",
       "      <th></th>\n",
       "      <th>Gender</th>\n",
       "      <th>City</th>\n",
       "      <th>Age</th>\n",
       "      <th>Number</th>\n",
       "      <th>Devices Count</th>\n",
       "    </tr>\n",
       "  </thead>\n",
       "  <tbody>\n",
       "    <tr>\n",
       "      <th>0</th>\n",
       "      <td>Male</td>\n",
       "      <td>New York</td>\n",
       "      <td>28</td>\n",
       "      <td>12434</td>\n",
       "      <td>1</td>\n",
       "    </tr>\n",
       "    <tr>\n",
       "      <th>1</th>\n",
       "      <td>Female</td>\n",
       "      <td>Los Angeles</td>\n",
       "      <td>27</td>\n",
       "      <td>43554</td>\n",
       "      <td>3</td>\n",
       "    </tr>\n",
       "    <tr>\n",
       "      <th>2</th>\n",
       "      <td>Male</td>\n",
       "      <td>Chicago</td>\n",
       "      <td>31</td>\n",
       "      <td>28644</td>\n",
       "      <td>1</td>\n",
       "    </tr>\n",
       "    <tr>\n",
       "      <th>3</th>\n",
       "      <td>Female</td>\n",
       "      <td>San Francisco</td>\n",
       "      <td>29</td>\n",
       "      <td>90884</td>\n",
       "      <td>2</td>\n",
       "    </tr>\n",
       "    <tr>\n",
       "      <th>4</th>\n",
       "      <td>Other</td>\n",
       "      <td>New York</td>\n",
       "      <td>37</td>\n",
       "      <td>85533</td>\n",
       "      <td>2</td>\n",
       "    </tr>\n",
       "  </tbody>\n",
       "</table>\n",
       "</div>"
      ],
      "text/plain": [
       "   Gender           City  Age  Number  Devices Count\n",
       "0    Male       New York   28   12434              1\n",
       "1  Female    Los Angeles   27   43554              3\n",
       "2    Male        Chicago   31   28644              1\n",
       "3  Female  San Francisco   29   90884              2\n",
       "4   Other       New York   37   85533              2"
      ]
     },
     "execution_count": 3,
     "metadata": {},
     "output_type": "execute_result"
    }
   ],
   "source": [
    "data = {\n",
    "    'Gender': ['Male', 'Female', 'Male', 'Female', 'Other'],\n",
    "    'City': ['New York', 'Los Angeles', 'Chicago', 'San Francisco', 'New York'],\n",
    "    'Age' : [28,27,31,29,37],\n",
    "    'Number' : [12434,43554,28644,90884,85533],\n",
    "    'Devices Count' : [1,3,1,2,2]\n",
    "}\n",
    "\n",
    "df = pd.DataFrame(data)\n",
    "df"
   ]
  },
  {
   "cell_type": "code",
   "execution_count": 11,
   "id": "6312bbb9",
   "metadata": {},
   "outputs": [
    {
     "data": {
      "text/html": [
       "<div>\n",
       "<style scoped>\n",
       "    .dataframe tbody tr th:only-of-type {\n",
       "        vertical-align: middle;\n",
       "    }\n",
       "\n",
       "    .dataframe tbody tr th {\n",
       "        vertical-align: top;\n",
       "    }\n",
       "\n",
       "    .dataframe thead th {\n",
       "        text-align: right;\n",
       "    }\n",
       "</style>\n",
       "<table border=\"1\" class=\"dataframe\">\n",
       "  <thead>\n",
       "    <tr style=\"text-align: right;\">\n",
       "      <th></th>\n",
       "      <th>Gender</th>\n",
       "      <th>City</th>\n",
       "      <th>Age</th>\n",
       "      <th>Number</th>\n",
       "      <th>Devices Count</th>\n",
       "    </tr>\n",
       "  </thead>\n",
       "  <tbody>\n",
       "    <tr>\n",
       "      <th>0</th>\n",
       "      <td>1</td>\n",
       "      <td>2</td>\n",
       "      <td>28</td>\n",
       "      <td>12434</td>\n",
       "      <td>1</td>\n",
       "    </tr>\n",
       "    <tr>\n",
       "      <th>1</th>\n",
       "      <td>0</td>\n",
       "      <td>1</td>\n",
       "      <td>27</td>\n",
       "      <td>43554</td>\n",
       "      <td>3</td>\n",
       "    </tr>\n",
       "    <tr>\n",
       "      <th>2</th>\n",
       "      <td>1</td>\n",
       "      <td>0</td>\n",
       "      <td>31</td>\n",
       "      <td>28644</td>\n",
       "      <td>1</td>\n",
       "    </tr>\n",
       "    <tr>\n",
       "      <th>3</th>\n",
       "      <td>0</td>\n",
       "      <td>3</td>\n",
       "      <td>29</td>\n",
       "      <td>90884</td>\n",
       "      <td>2</td>\n",
       "    </tr>\n",
       "    <tr>\n",
       "      <th>4</th>\n",
       "      <td>2</td>\n",
       "      <td>2</td>\n",
       "      <td>37</td>\n",
       "      <td>85533</td>\n",
       "      <td>2</td>\n",
       "    </tr>\n",
       "  </tbody>\n",
       "</table>\n",
       "</div>"
      ],
      "text/plain": [
       "   Gender  City  Age  Number  Devices Count\n",
       "0       1     2   28   12434              1\n",
       "1       0     1   27   43554              3\n",
       "2       1     0   31   28644              1\n",
       "3       0     3   29   90884              2\n",
       "4       2     2   37   85533              2"
      ]
     },
     "execution_count": 11,
     "metadata": {},
     "output_type": "execute_result"
    }
   ],
   "source": [
    "l = LabelEncoder()\n",
    "df['Gender'] = l.fit_transform(df[['Gender']])\n",
    "df['City'] = l.fit_transform(df[['City']])\n",
    "\n",
    "df \n",
    "# No New columns added. "
   ]
  },
  {
   "cell_type": "code",
   "execution_count": null,
   "id": "3e5db615",
   "metadata": {},
   "outputs": [],
   "source": [
    "# Q6. You are working with a dataset containing information about different types of animals, including their\n",
    "# species, habitat, and diet. Which encoding technique would you use to transform the categorical data into\n",
    "# a format suitable for machine learning algorithms? Justify your answer.\n",
    "\n",
    "I will use One hot Encoding. The only consideration would be there should be manageable categories in ecah column.\n",
    "The Species, habitat and diet does not have any ranking associated with it. So Nominal Encoding would create \n",
    "unnecessary relations."
   ]
  },
  {
   "cell_type": "code",
   "execution_count": null,
   "id": "6f3bbf15",
   "metadata": {},
   "outputs": [],
   "source": [
    "# Q7.You are working on a project that involves predicting customer churn for a telecommunications\n",
    "# company. You have a dataset with 5 features, including the customer's gender, age, contract type,\n",
    "# monthly charges, and tenure. Which encoding technique(s) would you use to transform the categorical\n",
    "# data into numerical data? Provide a step-by-step explanation of how you would implement the encoding.\n",
    "Categorical Data : gender, Contract type\n",
    "First column, Gender: One hot encoding will be used as manageable columns will be created.\n",
    "For contract type: Assuming the data is like: 1-year,2-year,4-year etc\n",
    "    Label encoding will be used for this. The Ranking will be preserved."
   ]
  },
  {
   "cell_type": "code",
   "execution_count": null,
   "id": "9ee0b797",
   "metadata": {},
   "outputs": [],
   "source": []
  },
  {
   "cell_type": "code",
   "execution_count": null,
   "id": "2e82441b",
   "metadata": {},
   "outputs": [],
   "source": []
  },
  {
   "cell_type": "code",
   "execution_count": null,
   "id": "fcf05e5b",
   "metadata": {},
   "outputs": [],
   "source": []
  }
 ],
 "metadata": {
  "kernelspec": {
   "display_name": "Python 3 (ipykernel)",
   "language": "python",
   "name": "python3"
  },
  "language_info": {
   "codemirror_mode": {
    "name": "ipython",
    "version": 3
   },
   "file_extension": ".py",
   "mimetype": "text/x-python",
   "name": "python",
   "nbconvert_exporter": "python",
   "pygments_lexer": "ipython3",
   "version": "3.11.4"
  }
 },
 "nbformat": 4,
 "nbformat_minor": 5
}
