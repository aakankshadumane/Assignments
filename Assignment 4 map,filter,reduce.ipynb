{
 "cells": [
  {
   "cell_type": "code",
   "execution_count": 2,
   "id": "ba4650f4",
   "metadata": {},
   "outputs": [
    {
     "data": {
      "text/plain": [
       "[('Virat Kohli', 24936),\n",
       " ('Jack Kallis', 25534),\n",
       " ('Ricky Ponting', 27483),\n",
       " ('Sachin Tendulkar', 34357)]"
      ]
     },
     "execution_count": 2,
     "metadata": {},
     "output_type": "execute_result"
    }
   ],
   "source": [
    "# Q1. Create a python program to sort the given list of tuples based on integer value using a\n",
    "# lambda function.\n",
    "#[('Sachin Tendulkar',34357),('Ricky Ponting',27483),('Jack Kallis',25534),('Virat Kohli',24936)]\n",
    "t = [('Sachin Tendulkar',34357),('Ricky Ponting',27483),('Jack Kallis',25534),('Virat Kohli',24936)]\n",
    "t.sort(key = lambda x : x[1])\n",
    "t\n",
    "\n"
   ]
  },
  {
   "cell_type": "code",
   "execution_count": 3,
   "id": "37a5e1c1",
   "metadata": {},
   "outputs": [
    {
     "data": {
      "text/plain": [
       "[1, 4, 9, 16, 25, 36, 49, 64, 81, 100]"
      ]
     },
     "execution_count": 3,
     "metadata": {},
     "output_type": "execute_result"
    }
   ],
   "source": [
    "# Q2. Write a Python Program to find the squares of all the numbers in the given list of integers using\n",
    "# lambda and map functions.\n",
    "# [1, 2, 3, 4, 5, 6, 7, 8, 9, 10]\n",
    "\n",
    "t = [1, 2, 3, 4, 5, 6, 7, 8, 9, 10]\n",
    "t = list(map(lambda x : x**2,t))\n",
    "t"
   ]
  },
  {
   "cell_type": "code",
   "execution_count": 5,
   "id": "d4d43675",
   "metadata": {},
   "outputs": [
    {
     "data": {
      "text/plain": [
       "('1', '2', '3', '4', '5', '6', '7', '8', '9', '10')"
      ]
     },
     "execution_count": 5,
     "metadata": {},
     "output_type": "execute_result"
    }
   ],
   "source": [
    "# Q3. Write a python program to convert the given list of integers into a tuple of strings. Use map and\n",
    "# lambda functions\n",
    "# Given String: [1, 2, 3, 4, 5, 6, 7, 8, 9, 10]\n",
    "# Expected output: ('1', '2', '3', '4', '5', '6', '7', '8', '9', '10')\n",
    "\n",
    "t = [1, 2, 3, 4, 5, 6, 7, 8, 9, 10]\n",
    "t = tuple(map(lambda i : str(i) , t))\n",
    "t"
   ]
  },
  {
   "cell_type": "code",
   "execution_count": 8,
   "id": "a753718d",
   "metadata": {},
   "outputs": [
    {
     "data": {
      "text/plain": [
       "15511210043330985984000000"
      ]
     },
     "execution_count": 8,
     "metadata": {},
     "output_type": "execute_result"
    }
   ],
   "source": [
    "# Q4. Write a python program using reduce function to compute the product of a list containing numbers\n",
    "# from 1 to 25.\n",
    "from functools import reduce\n",
    "l = [i for i in range(1,26)]\n",
    "product = reduce(lambda i,j : i*j , l)\n",
    "product"
   ]
  },
  {
   "cell_type": "code",
   "execution_count": 11,
   "id": "e752bb28",
   "metadata": {},
   "outputs": [
    {
     "name": "stdout",
     "output_type": "stream",
     "text": [
      "Divide by 2 list [2, 6, 60, 90, 120, 46]\n",
      "Divide by 3 list [3, 6, 9, 27, 60, 90, 120]\n"
     ]
    }
   ],
   "source": [
    "# Q5. Write a python program to filter the numbers in a given list that are divisible by 2 and 3 using the\n",
    "# filter function.\n",
    "l =[2, 3, 6, 9, 27, 60, 90, 120, 55, 46]\n",
    "l2 = list(filter(lambda i : i%2==0 , l))\n",
    "l3 = list(filter(lambda i : i %3 ==0, l))\n",
    "print(\"Divide by 2 list\",l2)\n",
    "print(\"Divide by 3 list\",l3)"
   ]
  },
  {
   "cell_type": "code",
   "execution_count": 14,
   "id": "0adba072",
   "metadata": {},
   "outputs": [
    {
     "data": {
      "text/plain": [
       "['php', 'aba', 'radar', 'level']"
      ]
     },
     "execution_count": 14,
     "metadata": {},
     "output_type": "execute_result"
    }
   ],
   "source": [
    "# Q6. Write a python program to find palindromes in the given list of strings using lambda and filter\n",
    "# function.\n",
    "# # ['python', 'php', 'aba', 'radar', 'level']\n",
    "l = ['python', 'php', 'aba', 'radar', 'level']\n",
    "l = list(filter(lambda i : i == i[::-1], l ))\n",
    "l"
   ]
  },
  {
   "cell_type": "code",
   "execution_count": null,
   "id": "fc711881",
   "metadata": {},
   "outputs": [],
   "source": []
  }
 ],
 "metadata": {
  "kernelspec": {
   "display_name": "Python 3 (ipykernel)",
   "language": "python",
   "name": "python3"
  },
  "language_info": {
   "codemirror_mode": {
    "name": "ipython",
    "version": 3
   },
   "file_extension": ".py",
   "mimetype": "text/x-python",
   "name": "python",
   "nbconvert_exporter": "python",
   "pygments_lexer": "ipython3",
   "version": "3.9.12"
  }
 },
 "nbformat": 4,
 "nbformat_minor": 5
}
