{
 "cells": [
  {
   "cell_type": "code",
   "execution_count": 1,
   "id": "028c428f",
   "metadata": {},
   "outputs": [],
   "source": [
    "# Q1, Create a vehicle class with an init method having instance variables as name_of_vehicle, max_speed\n",
    "# and average_of_vehicle.\n",
    "\n",
    "class vehicle:\n",
    "    def __init__(self, name_of_vehicle, max_speed, average_of_vehicle):\n",
    "        self.name_of_vehicle = name_of_vehicle\n",
    "        self.max_speed = max_speed\n",
    "        self.average_of_vehicle  = average_of_vehicle\n",
    "        "
   ]
  },
  {
   "cell_type": "code",
   "execution_count": 7,
   "id": "8abe22b3",
   "metadata": {},
   "outputs": [],
   "source": [
    "# Q2. Create a child class car from the vehicle class created in Que 1, which will inherit the vehicle class.\n",
    "# Create a method named seating_capacity which takes capacity as an argument and returns the name of\n",
    "# the vehicle and its seating capacity.\n",
    "\n",
    "class car(vehicle):\n",
    "    def seating_capacity(self, capacity):\n",
    "        return self.name_of_vehicle,capacity\n",
    "    "
   ]
  },
  {
   "cell_type": "code",
   "execution_count": 8,
   "id": "9c865ae5",
   "metadata": {},
   "outputs": [],
   "source": [
    "c = car(\"city\",200,150)"
   ]
  },
  {
   "cell_type": "code",
   "execution_count": 9,
   "id": "aff50641",
   "metadata": {},
   "outputs": [
    {
     "data": {
      "text/plain": [
       "('city', 5)"
      ]
     },
     "execution_count": 9,
     "metadata": {},
     "output_type": "execute_result"
    }
   ],
   "source": [
    "c.seating_capacity(5)"
   ]
  },
  {
   "cell_type": "code",
   "execution_count": null,
   "id": "df1f2906",
   "metadata": {},
   "outputs": [],
   "source": [
    "# Q3. What is multiple inheritance? Write a python code to demonstrate multiple inheritance.\n",
    "When a child class inherits from more than 1 parent class , then it is multiple inheritance.\n"
   ]
  },
  {
   "cell_type": "code",
   "execution_count": 10,
   "id": "973ae342",
   "metadata": {},
   "outputs": [],
   "source": [
    "class walk:\n",
    "    def walking(self):\n",
    "        print(\"Able to move\")\n",
    "        \n",
    "class run:\n",
    "    def running(self):\n",
    "        print(\"Able to run\")\n",
    "        \n",
    "class human(walk,run):        #class human inherits property of walk and run from 2 classes\n",
    "    pass"
   ]
  },
  {
   "cell_type": "code",
   "execution_count": 11,
   "id": "5bb15a84",
   "metadata": {},
   "outputs": [],
   "source": [
    "h = human()"
   ]
  },
  {
   "cell_type": "code",
   "execution_count": 12,
   "id": "ef96d741",
   "metadata": {},
   "outputs": [
    {
     "name": "stdout",
     "output_type": "stream",
     "text": [
      "Able to move\n"
     ]
    }
   ],
   "source": [
    "h.walking()"
   ]
  },
  {
   "cell_type": "code",
   "execution_count": 13,
   "id": "84f0cbf3",
   "metadata": {},
   "outputs": [
    {
     "name": "stdout",
     "output_type": "stream",
     "text": [
      "Able to run\n"
     ]
    }
   ],
   "source": [
    "h.running()"
   ]
  },
  {
   "cell_type": "code",
   "execution_count": 22,
   "id": "e33e6341",
   "metadata": {},
   "outputs": [],
   "source": [
    "# Q4. What are getter and setter in python? Create a class and create a getter and a \n",
    "# setter method in this class.\n",
    "class demo:\n",
    "    def __init__(self,name):\n",
    "        self.__name = name      #private variable declared\n",
    "        \n",
    "    @property\n",
    "    def name(self):\n",
    "        return self.__name\n",
    "    \n",
    "    @name.setter\n",
    "    def name(self,name):\n",
    "        self.__name = name "
   ]
  },
  {
   "cell_type": "code",
   "execution_count": 23,
   "id": "155f61d7",
   "metadata": {},
   "outputs": [],
   "source": [
    "d = demo(\"simran\")"
   ]
  },
  {
   "cell_type": "code",
   "execution_count": 24,
   "id": "6942474c",
   "metadata": {},
   "outputs": [
    {
     "data": {
      "text/plain": [
       "'simran'"
      ]
     },
     "execution_count": 24,
     "metadata": {},
     "output_type": "execute_result"
    }
   ],
   "source": [
    "d.name"
   ]
  },
  {
   "cell_type": "code",
   "execution_count": 27,
   "id": "0ad22d6f",
   "metadata": {},
   "outputs": [],
   "source": [
    "d.name = \"sejal\""
   ]
  },
  {
   "cell_type": "code",
   "execution_count": 28,
   "id": "e61f09bc",
   "metadata": {},
   "outputs": [
    {
     "data": {
      "text/plain": [
       "'sejal'"
      ]
     },
     "execution_count": 28,
     "metadata": {},
     "output_type": "execute_result"
    }
   ],
   "source": [
    "d.name"
   ]
  },
  {
   "cell_type": "code",
   "execution_count": null,
   "id": "18592367",
   "metadata": {},
   "outputs": [],
   "source": [
    "Getter and setters are used to avoid direct access of private variables. \n",
    "Setters are also used to add logic while updating the value"
   ]
  },
  {
   "cell_type": "code",
   "execution_count": null,
   "id": "1759504b",
   "metadata": {},
   "outputs": [],
   "source": [
    "# Q5.What is method overriding in python? Write a python code to demonstrate method overriding.\n",
    "method overriding is when child class implememts a method which is already \n",
    "implemented in parent class."
   ]
  },
  {
   "cell_type": "code",
   "execution_count": 29,
   "id": "f9b9200e",
   "metadata": {},
   "outputs": [],
   "source": [
    "class animal:\n",
    "    def move(self):\n",
    "        print(\"Can move\")\n",
    "        \n",
    "class tiger(animal):\n",
    "    def move(self):\n",
    "        print(\"can walk\")"
   ]
  },
  {
   "cell_type": "code",
   "execution_count": 30,
   "id": "c42ee9ca",
   "metadata": {},
   "outputs": [],
   "source": [
    "t = tiger()"
   ]
  },
  {
   "cell_type": "code",
   "execution_count": 31,
   "id": "25c4beb5",
   "metadata": {},
   "outputs": [
    {
     "name": "stdout",
     "output_type": "stream",
     "text": [
      "can walk\n"
     ]
    }
   ],
   "source": [
    "t.move()  #child class method called with child class object"
   ]
  },
  {
   "cell_type": "code",
   "execution_count": 34,
   "id": "f8e3460c",
   "metadata": {},
   "outputs": [],
   "source": [
    "a = animal()"
   ]
  },
  {
   "cell_type": "code",
   "execution_count": 35,
   "id": "b00045d9",
   "metadata": {},
   "outputs": [
    {
     "name": "stdout",
     "output_type": "stream",
     "text": [
      "Can move\n"
     ]
    }
   ],
   "source": [
    "a.move()   # parent class method called with parent class object"
   ]
  },
  {
   "cell_type": "code",
   "execution_count": null,
   "id": "ef6d92ce",
   "metadata": {},
   "outputs": [],
   "source": []
  }
 ],
 "metadata": {
  "kernelspec": {
   "display_name": "Python 3 (ipykernel)",
   "language": "python",
   "name": "python3"
  },
  "language_info": {
   "codemirror_mode": {
    "name": "ipython",
    "version": 3
   },
   "file_extension": ".py",
   "mimetype": "text/x-python",
   "name": "python",
   "nbconvert_exporter": "python",
   "pygments_lexer": "ipython3",
   "version": "3.9.12"
  }
 },
 "nbformat": 4,
 "nbformat_minor": 5
}
