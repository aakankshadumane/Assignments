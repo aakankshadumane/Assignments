{
 "cells": [
  {
   "cell_type": "code",
   "execution_count": null,
   "id": "756210fe",
   "metadata": {},
   "outputs": [],
   "source": [
    "# Q1. What is the Probability density function?\n",
    "It is a function that describes probablility of different possible values of a variable for \n",
    "continuos values.\n",
    "For ex: height in cms\n",
    "The height parameter is on X axis and probablity function is on Y axis.\n",
    "After plotting ,there is normally distributed curve graph.\n"
   ]
  },
  {
   "cell_type": "code",
   "execution_count": null,
   "id": "054afd53",
   "metadata": {},
   "outputs": [],
   "source": [
    "# Q2. What are the types of Probability distribution?\n",
    "Two types of probability function are:\n",
    "1. pdf - probablity density function\n",
    "Used to describe probability of continuos variable\n",
    "ex. height\n",
    "\n",
    "2. pmf - probablity mass function\n",
    "Used to describe probablity of discrete variables.\n",
    "ex. rolling a dice"
   ]
  },
  {
   "cell_type": "code",
   "execution_count": 4,
   "id": "f3487525",
   "metadata": {},
   "outputs": [],
   "source": [
    "# Q3. Write a Python function to calculate the probability density function of a normal \n",
    "# distribution with given mean and standard deviation at a given point.\n",
    "from scipy.stats import norm\n",
    "import numpy as np\n",
    "import matplotlib.pyplot as plt"
   ]
  },
  {
   "cell_type": "code",
   "execution_count": 28,
   "id": "aec09de0",
   "metadata": {},
   "outputs": [
    {
     "name": "stdout",
     "output_type": "stream",
     "text": [
      "0.07820853879509118\n"
     ]
    }
   ],
   "source": [
    "mean = 100\n",
    "standard_deviation = 5\n",
    "size = 5000         #defining mean, sd and size of dataset\n",
    "pdf = norm.pdf(101, loc=mean, scale=standard_deviation)  #calculating pdf values for 101\n",
    "print(pdf)"
   ]
  },
  {
   "cell_type": "code",
   "execution_count": 27,
   "id": "472730a9",
   "metadata": {},
   "outputs": [
    {
     "data": {
      "text/plain": [
       "(array([  17.,   91.,  379.,  916., 1357., 1270.,  667.,  242.,   49.,\n",
       "          12.]),\n",
       " array([ 82.83500658,  86.4232915 ,  90.01157642,  93.59986135,\n",
       "         97.18814627, 100.77643119, 104.36471612, 107.95300104,\n",
       "        111.54128596, 115.12957089, 118.71785581]),\n",
       " <BarContainer object of 10 artists>)"
      ]
     },
     "execution_count": 27,
     "metadata": {},
     "output_type": "execute_result"
    },
    {
     "data": {
      "image/png": "[encoded data removed]",
      "text/plain": [
       "<Figure size 432x288 with 1 Axes>"
      ]
     },
     "metadata": {
      "needs_background": "light"
     },
     "output_type": "display_data"
    }
   ],
   "source": [
    "data = np.random.normal(mean,standard_deviation,size)  #creating dataset with numpy module \n",
    "plt.hist(data) #checking for normally distributed curve"
   ]
  },
  {
   "cell_type": "code",
   "execution_count": null,
   "id": "d16f9996",
   "metadata": {},
   "outputs": [],
   "source": [
    "# Q4. What are the properties of Binomial distribution? Give two examples of events where binomial\n",
    "# distribution can be applied.\n",
    "Properties of Binomial Distribution:\n",
    "1.There are two possible outcomes: true or false, success or failure, yes or no.\n",
    "2.There is ‘n’ number of independent trials or a fixed number of n times repeated trials.\n",
    "3.The probability of success or failure remains the same for each trial.\n",
    "4.Every trial is an independent trial, which means the outcome of one trial does not \n",
    "affect the outcome of another trial.\n",
    "\n",
    "Example 1 : Did 2 appear on dice? --Yes/No\n",
    "Example 2 : Tossing a coin --Heads/Tails\n",
    "In above both examples, only 2 outcomes are possible"
   ]
  },
  {
   "cell_type": "code",
   "execution_count": 29,
   "id": "82eb4e68",
   "metadata": {},
   "outputs": [
    {
     "data": {
      "image/png": "[encoded data removed]",
      "text/plain": [
       "<Figure size 432x288 with 1 Axes>"
      ]
     },
     "metadata": {
      "needs_background": "light"
     },
     "output_type": "display_data"
    }
   ],
   "source": [
    "# Q5. Generate a random sample of size 1000 from a binomial distribution with probability of \n",
    "# success 0.4 and plot a histogram of the results using matplotlib.\n",
    "from scipy.stats import binom\n",
    "n = 1000 #setting size to 1000\n",
    "p = 0.4   #setting success probablity to 0.4\n",
    "r_values = list(range(n + 1))\n",
    "dist = [binom.pmf(r, n, p) for r in r_values ]\n",
    "# plotting the graph \n",
    "plt.bar(r_values, dist)\n",
    "plt.show()"
   ]
  },
  {
   "cell_type": "code",
   "execution_count": 1,
   "id": "5f21638d",
   "metadata": {},
   "outputs": [
    {
     "data": {
      "text/plain": [
       "0.17299160788207146"
      ]
     },
     "execution_count": 1,
     "metadata": {},
     "output_type": "execute_result"
    }
   ],
   "source": [
    "# Q6. Write a Python function to calculate the cumulative distribution function of a Poisson\n",
    "# distribution with given mean at a given point.\n",
    "from scipy.stats import poisson\n",
    "poisson.cdf(k=4,mu=7)"
   ]
  },
  {
   "cell_type": "code",
   "execution_count": null,
   "id": "e6ea901f",
   "metadata": {},
   "outputs": [],
   "source": [
    "# Q7. How Binomial distribution different from Poisson distribution?\n",
    "\n",
    "Binomial:\n",
    "1. Two possible outcomes, success or failures\n",
    "2. Mean > Variance\n",
    "3. Gives probability of repeated number of trials\n",
    "4. Number of trials fixed\n",
    "5. Ex. Tossing a coin\n",
    "    \n",
    "Poisson:\n",
    "1. Unlimited possible outcomes \n",
    "2. Mean = Variance\n",
    "3. Gives count of independent events occur randomly with a given period of time.\n",
    "4. Number of trials Infinite.\n",
    "5. Ex. Number of people visiting Airport Every hour"
   ]
  },
  {
   "cell_type": "code",
   "execution_count": 2,
   "id": "e5f5dd65",
   "metadata": {},
   "outputs": [],
   "source": [
    "# Q8. Generate a random sample of size 1000 from a Poisson distribution with mean 5 and \n",
    "# calculate the sample mean and variance.\n",
    "data = poisson.rvs(mu=5,size=1000)\n"
   ]
  },
  {
   "cell_type": "code",
   "execution_count": 3,
   "id": "536c46c4",
   "metadata": {},
   "outputs": [
    {
     "data": {
      "text/plain": [
       "array([ 4,  6,  9,  6,  5,  5,  5,  4,  6,  1,  3,  2,  4,  8,  2, 10,  7,\n",
       "        3,  5,  2,  4,  2,  7,  6,  6,  3,  8,  5,  6,  9,  7,  2,  1,  4,\n",
       "        3,  7,  3, 12,  4,  3,  8,  7,  4,  5,  8,  5,  7,  4,  6,  3,  4,\n",
       "        6,  7,  6,  7,  2,  1,  3,  5,  5,  4,  6,  9,  9,  7,  4,  7, 10,\n",
       "        6,  2,  7,  1,  7,  6,  6,  5,  4,  4,  5,  5,  6,  5,  8,  2,  5,\n",
       "        8,  3,  9,  8,  4,  2,  5,  2,  3,  4,  3,  5,  4,  7,  6, 10,  4,\n",
       "       10,  3,  5,  6,  6,  6,  5,  4,  2,  2,  8,  6,  5,  7,  8,  6,  4,\n",
       "        8,  4,  4,  1,  3,  5,  2,  1, 13,  5,  8,  5,  7,  5,  6,  4,  5,\n",
       "        2, 10,  1,  3,  7,  3,  1,  5,  6,  1,  7,  6,  9,  2,  1,  5,  6,\n",
       "        4,  5,  8,  7,  5,  4,  8,  8,  8,  1,  7,  5,  2,  3,  4,  8,  4,\n",
       "        3,  2,  3,  4,  4,  9,  7,  2,  8,  6,  4,  6,  4,  4,  1,  4,  4,\n",
       "        5,  4,  7,  4,  5,  4,  7,  7,  6,  8,  9,  4,  9,  4,  3,  2,  4,\n",
       "        5,  4,  5,  5,  4,  4,  4,  4,  3,  3,  7,  5,  6,  2,  4,  2,  1,\n",
       "        5,  6,  5,  4,  4,  6,  9,  2,  3,  7,  6,  3,  1,  8,  6,  3,  5,\n",
       "        5,  7,  6,  4,  6,  6,  7,  7,  7,  6,  8,  6,  1,  1,  4,  1,  2,\n",
       "        2,  1,  5,  4,  5,  1,  9,  7,  5,  6,  6,  5,  4,  7,  8,  7, 11,\n",
       "        5,  3,  7,  4,  7,  5,  2,  7,  3,  8,  3,  3,  4,  4,  5,  5,  3,\n",
       "        7,  3,  6,  4,  4,  3,  8,  2,  7,  5,  6,  6,  4,  5,  3,  7,  3,\n",
       "        6,  8,  6,  5,  5,  4,  1,  5,  6,  6,  9,  5,  8,  5,  5,  5,  8,\n",
       "        8,  4,  6,  9,  8,  3,  2,  8,  8,  2,  7,  7,  3,  2,  3,  3,  7,\n",
       "        6,  7,  4,  8,  4,  3,  5, 11,  5,  7,  3,  5,  3, 11,  2,  5,  2,\n",
       "        4,  4,  5,  3,  6,  3,  1,  2,  4,  5,  4,  7,  4,  2,  5,  6,  7,\n",
       "        3,  6,  6,  6,  3, 10,  4,  5,  5,  3,  3,  9,  6,  4,  6,  4,  2,\n",
       "        6, 10,  3,  7,  6,  5,  7,  2,  6,  5,  3,  3,  4,  6, 11,  2,  7,\n",
       "        9,  6,  5,  6,  7,  9,  8,  8,  2,  5,  7,  5,  6,  2,  6,  9,  2,\n",
       "        2,  7,  6,  6,  6,  2,  6,  2,  5,  3,  6,  5,  4,  3,  5,  1,  5,\n",
       "        5,  3,  4,  4,  9,  3, 10,  4,  6,  4,  3,  2,  4,  6,  3,  5,  6,\n",
       "        7,  7,  5,  4,  6,  8, 10,  6, 10,  3,  6, 10,  5,  6,  3,  3,  6,\n",
       "        5,  7,  4,  9,  3,  5,  7,  4,  3,  2,  5,  6,  6,  5,  4,  3,  7,\n",
       "        7,  6,  6,  6,  3,  4,  9,  1,  3,  8,  4,  5, 10,  6,  4,  5,  4,\n",
       "        7,  4,  2,  5,  6,  5,  6,  6,  5,  3,  2,  2,  8,  5,  2,  7,  5,\n",
       "        2,  4,  8,  9,  4,  3,  5,  1,  4,  1,  3,  2,  4,  5,  1,  4,  1,\n",
       "        0,  7,  4,  3,  1,  9,  5,  6,  2,  8,  9,  2,  2,  7,  6,  3,  6,\n",
       "        7,  6,  4,  3,  3,  4,  5,  4,  4,  4,  4,  5,  3,  7,  5,  7,  5,\n",
       "        7,  3,  6,  5,  3,  4,  7,  3,  4,  7,  7,  4,  7,  0,  8,  4,  8,\n",
       "        4,  6,  8,  4,  5,  4, 10,  6,  4,  2,  7,  7,  8, 12,  0,  6,  2,\n",
       "        3,  3,  3,  5,  3,  4,  3,  4,  4,  4,  3,  5,  3,  5,  6,  5,  4,\n",
       "       13,  2,  5,  7,  6,  8,  4,  7,  2,  5,  3,  6,  4,  3,  5,  5,  3,\n",
       "        4,  4,  2,  7,  3,  4,  5,  3,  5,  8,  4,  4,  3,  4,  4,  5,  7,\n",
       "        7,  3,  5,  7,  5,  4,  7,  8,  7,  4,  1,  5,  3,  7,  5,  2,  2,\n",
       "        4, 12,  9,  4,  6,  8,  7,  4,  3,  3,  6,  4,  5,  6,  7,  5,  6,\n",
       "        4,  5, 14, 10,  5,  5,  7,  6,  4,  4,  6,  3,  3,  7,  6,  5,  8,\n",
       "        3,  3,  1,  6,  6,  5,  5,  6,  6,  7,  5,  7,  6,  4,  5,  0,  1,\n",
       "        6,  4,  6,  4,  9,  2,  2,  3,  8,  4,  5,  5, 10,  6,  4,  6,  5,\n",
       "        4,  7,  7,  5,  7,  2,  5,  5,  1,  4,  4,  6,  2,  4,  7,  7,  5,\n",
       "        7,  8,  3,  2,  4,  1,  4,  5,  4,  4,  7,  2,  7,  2,  8,  6,  5,\n",
       "        4,  6,  7,  3,  2,  6,  3,  7,  1,  5,  6,  8,  6,  8,  4,  3,  3,\n",
       "        7,  3,  8,  4, 12,  5,  6,  8,  3,  2,  3,  5,  7,  6,  5,  3,  4,\n",
       "        5,  8,  4, 10,  4,  2,  2,  4,  2,  9,  8,  4,  6,  7,  7,  7,  1,\n",
       "        7,  9,  8,  4,  9,  8,  8,  5,  3,  5,  5,  2,  6,  4,  1,  7,  3,\n",
       "        7,  4,  5,  1,  5,  4,  4,  2,  4,  6,  5,  5,  7,  9,  4,  4,  5,\n",
       "        4,  2,  9,  4,  1,  3,  9, 10,  6,  7,  5,  2,  3,  7,  8,  1,  3,\n",
       "        6,  9,  7,  6,  3,  3,  9,  3,  6,  3,  5,  9,  3,  6,  5,  1,  7,\n",
       "        4,  1,  5,  4,  3, 11,  5,  5,  3,  1,  6,  5,  5,  6,  5,  4,  3,\n",
       "        6,  5,  6,  6,  7,  9,  6,  2,  6,  8,  7,  7,  2,  2,  3,  5,  3,\n",
       "        3,  8,  5,  7,  3,  3,  6,  5,  7,  3,  8,  3,  9,  3,  3,  1,  5,\n",
       "        4,  3,  5,  2,  5,  7,  5,  2,  2,  5,  6,  7,  6,  4,  7,  3,  6,\n",
       "        4,  9,  3, 10,  3,  5,  3,  3,  6,  5,  4,  6,  7,  4,  5,  6,  3,\n",
       "        3,  4,  5,  3,  5,  1,  2,  5,  3,  4,  5,  2,  2,  4])"
      ]
     },
     "execution_count": 3,
     "metadata": {},
     "output_type": "execute_result"
    }
   ],
   "source": [
    "data #printing the dataset"
   ]
  },
  {
   "cell_type": "code",
   "execution_count": 5,
   "id": "940ef65e",
   "metadata": {},
   "outputs": [
    {
     "data": {
      "text/plain": [
       "array([5, 6, 7, 5, 4, 2, 6, 6, 7, 2, 5, 4, 9, 6, 7, 8, 7, 0, 6, 7, 9, 8,\n",
       "       3, 5, 3, 6, 7, 5, 5, 5])"
      ]
     },
     "execution_count": 5,
     "metadata": {},
     "output_type": "execute_result"
    }
   ],
   "source": [
    "sample_data = np.random.choice(data,size=30)  #selecting 30 random variables from data\n",
    "sample_data"
   ]
  },
  {
   "cell_type": "code",
   "execution_count": 9,
   "id": "303763ac",
   "metadata": {},
   "outputs": [
    {
     "name": "stdout",
     "output_type": "stream",
     "text": [
      "Sample Mean  5.5\n",
      "Sample variance  4.183333333333334\n"
     ]
    }
   ],
   "source": [
    "print(\"Sample Mean \",sample_data.mean())  \n",
    "print(\"Sample variance \",sample_data.var())"
   ]
  },
  {
   "cell_type": "code",
   "execution_count": null,
   "id": "648ae260",
   "metadata": {},
   "outputs": [],
   "source": [
    "# Q9. How mean and variance are related in Binomial distribution and Poisson distribution?\n",
    "In binomial distribution Mean > Variance\n",
    "In Poisson distribution mean = variance."
   ]
  },
  {
   "cell_type": "code",
   "execution_count": null,
   "id": "52203bbd",
   "metadata": {},
   "outputs": [],
   "source": [
    "# Q10. In normal distribution with respect to mean position, where does the least \n",
    "# frequent data appear?\n",
    "In normal Distribution, lest frequent data is far away from mean."
   ]
  }
 ],
 "metadata": {
  "kernelspec": {
   "display_name": "Python 3 (ipykernel)",
   "language": "python",
   "name": "python3"
  },
  "language_info": {
   "codemirror_mode": {
    "name": "ipython",
    "version": 3
   },
   "file_extension": ".py",
   "mimetype": "text/x-python",
   "name": "python",
   "nbconvert_exporter": "python",
   "pygments_lexer": "ipython3",
   "version": "3.9.12"
  }
 },
 "nbformat": 4,
 "nbformat_minor": 5
}
