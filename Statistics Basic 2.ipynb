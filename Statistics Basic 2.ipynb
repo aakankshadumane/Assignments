{
 "cells": [
  {
   "cell_type": "code",
   "execution_count": null,
   "id": "7bafa4f1",
   "metadata": {},
   "outputs": [],
   "source": [
    "# Q1. What are the three measures of central tendency?\n",
    "Measures of central tendency tell us what is happening in middle of data.\n",
    "Three measures are: mean, median and mode\n",
    "    Mean - Average of dataset\n",
    "    Median - Middle item when dataset is sorted\n",
    "    Mode - Most frequently occured data item"
   ]
  },
  {
   "cell_type": "code",
   "execution_count": null,
   "id": "2528a0ab",
   "metadata": {},
   "outputs": [],
   "source": [
    "# Q2. What is the difference between the mean, median, and mode? How are they used to measure the\n",
    "# central tendency of a dataset?\n",
    "Difference between three measures is:\n",
    "    Mean - Average of dataset\n",
    "    Median - Middle item when dataset is sorted\n",
    "    Mode - Most frequently occured data item\n",
    "Based on the properties of the data, the measures of central tendency are selected.\n",
    "For Symmetrical distribution of continous data, all three are good.\n",
    "For Skewed distribution, median is good\n",
    "If original data is present, median and mode is good\n",
    "For Categorical data, mode is best choice"
   ]
  },
  {
   "cell_type": "code",
   "execution_count": null,
   "id": "6e89af94",
   "metadata": {},
   "outputs": [],
   "source": [
    "# Q3. Measure the three measures of central tendency for the given height data:\n",
    "[178,177,176,177,178.2,178,175,179,180,175,178.9,176.2,177,172.5,178,176.5]\n",
    "Mean - Average of data - 177.01\n",
    "Median - 177\n",
    "Mode - 177,178"
   ]
  },
  {
   "cell_type": "code",
   "execution_count": null,
   "id": "af795af8",
   "metadata": {},
   "outputs": [],
   "source": [
    "# Q4. Find the standard deviation for the given data:\n",
    "[178,177,176,177,178.2,178,175,179,180,175,178.9,176.2,177,172.5,178,176.5]\n",
    "Considering above data is population data: \n",
    "    Standard Deviation : 1.788\n",
    "        \n",
    "Considering above data is Sample data: \n",
    "    Standard Deviation : 1.847"
   ]
  },
  {
   "cell_type": "code",
   "execution_count": null,
   "id": "97e8581c",
   "metadata": {},
   "outputs": [],
   "source": [
    "# Q5. How are measures of dispersion such as range, variance, and standard deviation used to \n",
    "# describe the spread of a dataset? Provide an example.\n",
    "range - It gives the difference between the largest and the smallest observation in the data.\n",
    "It is very sensitive to outliers and does not use all the observations in a data set.\n",
    "Suppose for data : 10, 14, 8, 10, 15, 4, 7\n",
    "Minimum value = 7 , Maximum Value = 15\n",
    "Range = Maximum Value in the data – Minimum value in the data  \n",
    "      = 15 – 7 = 8\n",
    "    \n",
    "variance - It gives Spread of dataset around its mean value.\n",
    "It is given by measuring the distance of the observed values from the mean of the distribution. \n",
    "For a data, if the sum is zero, then each term has to be zero which means that there is no \n",
    "scattering in the data. If sum is small, then it means that the data is concentrated at the mean.\n",
    "\n",
    "Standard deviation - It is amount of variation or dispersio of set of values.\n",
    "Low sd - values close to mean\n",
    "High sd - values spread out over wider range\n",
    "\n"
   ]
  },
  {
   "cell_type": "code",
   "execution_count": null,
   "id": "6dcde3f4",
   "metadata": {},
   "outputs": [],
   "source": [
    "# Q6. What is a Venn diagram?\n",
    "Venn diagrams are the diagrams that are used to represent the sets, relation between the sets \n",
    "and operation performed on them, in a pictorial way. "
   ]
  },
  {
   "cell_type": "code",
   "execution_count": null,
   "id": "942516fb",
   "metadata": {},
   "outputs": [],
   "source": [
    "# Q7. For the two given sets A = (2,3,4,5,6,7) & B = (0,2,6,8,10). Find:\n",
    "(i) A Intersection B - Common Elements\n",
    "(2,6)\n",
    "(ii) A ⋃ B - All  Elements\n",
    "(0,2,3,4,5,6,7,8,10)"
   ]
  },
  {
   "cell_type": "code",
   "execution_count": null,
   "id": "45304d92",
   "metadata": {},
   "outputs": [],
   "source": [
    "# Q8. What do you understand about skewness in data?\n",
    "Skewness tells us about how data is distributed i.e is it symmetrical or asymmetrical.\n",
    "It measures the distortions. It can be left skewed, right skewed or no skewed at all."
   ]
  },
  {
   "cell_type": "code",
   "execution_count": null,
   "id": "19a1ecbd",
   "metadata": {},
   "outputs": [],
   "source": [
    "# Q9. If a data is right skewed then what will be the position of median with respect to mean?\n",
    "In Right Skewed data:\n",
    "    mean>median>mode\n",
    "    \n",
    "Mean will be greater than median"
   ]
  },
  {
   "cell_type": "code",
   "execution_count": null,
   "id": "a9a47a6c",
   "metadata": {},
   "outputs": [],
   "source": [
    "# Q10. Explain the difference between covariance and correlation. How are these measures used in\n",
    "# statistical analysis?\n",
    "Covariance means relationship between two random variables. The value of Covariance lies in \n",
    "the range of -∞ and +∞. It indicates direction of linear relationship in variables. Positive \n",
    "covariance means both the variables (X, Y) move in the same direction. Negative covariance \n",
    "means both the variables (X, Y) move in the opposite direction.\n",
    "In pandas, df.cov() gives covariance matrix.\n",
    "\n",
    "Correlation is a measure that determines the degree to which two or more random variables move \n",
    "in sequence.It measures both direction and strength of linear relationship between two variables. \n",
    "It lies in range -1 to +1. Positive correlation occurs when two variables move in the same \n",
    "direction. IF variables move in the opposite direction, they are negatively correlated.\n",
    "In Pandas, df.corr() gives correlation. Default is pearson. Can select spearman as well."
   ]
  },
  {
   "cell_type": "code",
   "execution_count": null,
   "id": "98f4f8f5",
   "metadata": {},
   "outputs": [],
   "source": [
    "# Q11. What is the formula for calculating the sample mean? Provide an example calculation for a\n",
    "# # dataset.\n",
    "The formula for calculating the sample mean is x̄ = ( Σ xi ) / n.\n",
    "Ex: Students marks are: 45,34,19,47,66,41,27,22\n",
    "        Step 1 : Add up all marks: Total = 301\n",
    "        Step 2 : Divide by n(here n = 8, total number of students)\n",
    "            301/8 = 37.625\n",
    "        Sample mean = 37.625"
   ]
  },
  {
   "cell_type": "code",
   "execution_count": null,
   "id": "2355bf96",
   "metadata": {},
   "outputs": [],
   "source": [
    "# Q12. For a normal distribution data what is the relationship between its measure of central tendency?\n",
    "For normal/guassian data, mean = median = mode"
   ]
  },
  {
   "cell_type": "code",
   "execution_count": null,
   "id": "c28d2494",
   "metadata": {},
   "outputs": [],
   "source": [
    "# Q13. How is covariance different from correlation?\n",
    "Covariance indicates the direction of the linear relationship between variables. \n",
    "Correlation measures both the strength and direction of the linear relationship between \n",
    "two variables."
   ]
  },
  {
   "cell_type": "code",
   "execution_count": null,
   "id": "2487d562",
   "metadata": {},
   "outputs": [],
   "source": [
    "# Q14. How do outliers affect measures of central tendency and dispersion? Provide an example.\n",
    "Mean, median, mode are measures of central tendency. Mean is always affected by outliers as it \n",
    "works by averaging data.\n",
    "ex : Consider grades of student: 44,46,47,47,12\n",
    "        Here, 12 is an outlier.\n",
    "        Mean comes out to be: 39.2\n",
    "        Median is : 46\n",
    "        Mode is : 47\n",
    "    If we remove the outlier: 44,46,47,47\n",
    "    Mean : 46, median : 46.5, mode : 47\n",
    "Hence, difference in mean is 6.8, median is 0.5 and no change in mode\n",
    "Thus, mean is most affected by outliers.\n",
    "\n",
    "Range, Standard deviation and variance are measures of dispersion.\n",
    "Consider a sample dataset of 8 values: 47,49,43,40,43,46,41,10\n",
    "    variance :154.9 , sd : 12.44 , range : 39\n",
    "If we remove the outlier value 10, dataset is: 47,49,43,40,43,46,41\n",
    "    variance : 10.8 , sd: 3.2 , range : 9\n",
    "Hence, all 3 values are affected by outliers.            "
   ]
  }
 ],
 "metadata": {
  "kernelspec": {
   "display_name": "Python 3 (ipykernel)",
   "language": "python",
   "name": "python3"
  },
  "language_info": {
   "codemirror_mode": {
    "name": "ipython",
    "version": 3
   },
   "file_extension": ".py",
   "mimetype": "text/x-python",
   "name": "python",
   "nbconvert_exporter": "python",
   "pygments_lexer": "ipython3",
   "version": "3.9.12"
  }
 },
 "nbformat": 4,
 "nbformat_minor": 5
}
