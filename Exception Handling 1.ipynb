{
 "cells": [
  {
   "cell_type": "code",
   "execution_count": null,
   "id": "67987b57",
   "metadata": {},
   "outputs": [],
   "source": [
    "# Q1. What is an Exception in python? Write the difference between Exeptions and Syntax errors\n",
    "\n",
    "Exception is a type of error which can stop normal flow of program execution. \n",
    "Syntax error: It occurs when there is misspelled words, missing parenthesis, etc in code. \n",
    "Syntax is not correct in this type of Error.\n",
    "\n",
    "Exception: Syntax is right and results are wrong. It changes normal execution of program."
   ]
  },
  {
   "cell_type": "code",
   "execution_count": null,
   "id": "eedc6bd9",
   "metadata": {},
   "outputs": [],
   "source": [
    "# Q2. What happens when an exception is not handled? Explain with an example\n",
    "It will change normal flow of program and eventually can stop program from executing.\n",
    "    "
   ]
  },
  {
   "cell_type": "code",
   "execution_count": 1,
   "id": "7c270c6f",
   "metadata": {},
   "outputs": [],
   "source": [
    "def example():\n",
    "    z = 5/0\n",
    "    print(z)"
   ]
  },
  {
   "cell_type": "code",
   "execution_count": 2,
   "id": "54b9e0dd",
   "metadata": {},
   "outputs": [
    {
     "ename": "ZeroDivisionError",
     "evalue": "division by zero",
     "output_type": "error",
     "traceback": [
      "\u001b[1;31m---------------------------------------------------------------------------\u001b[0m",
      "\u001b[1;31mZeroDivisionError\u001b[0m                         Traceback (most recent call last)",
      "Input \u001b[1;32mIn [2]\u001b[0m, in \u001b[0;36m<cell line: 1>\u001b[1;34m()\u001b[0m\n\u001b[1;32m----> 1\u001b[0m \u001b[43mexample\u001b[49m\u001b[43m(\u001b[49m\u001b[43m)\u001b[49m\n",
      "Input \u001b[1;32mIn [1]\u001b[0m, in \u001b[0;36mexample\u001b[1;34m()\u001b[0m\n\u001b[0;32m      1\u001b[0m \u001b[38;5;28;01mdef\u001b[39;00m \u001b[38;5;21mexample\u001b[39m():\n\u001b[1;32m----> 2\u001b[0m     z \u001b[38;5;241m=\u001b[39m \u001b[38;5;241;43m5\u001b[39;49m\u001b[38;5;241;43m/\u001b[39;49m\u001b[38;5;241;43m0\u001b[39;49m\n\u001b[0;32m      3\u001b[0m     \u001b[38;5;28mprint\u001b[39m(z)\n",
      "\u001b[1;31mZeroDivisionError\u001b[0m: division by zero"
     ]
    }
   ],
   "source": [
    "example()  #not handled exception throws error"
   ]
  },
  {
   "cell_type": "code",
   "execution_count": null,
   "id": "ed59f753",
   "metadata": {},
   "outputs": [],
   "source": [
    "# Q3. Which Python statements are used to catch and handle exceptions? Explain with an example\n",
    "try and except are used to Catch and handle exceptions    "
   ]
  },
  {
   "cell_type": "code",
   "execution_count": 5,
   "id": "7fcd4892",
   "metadata": {},
   "outputs": [],
   "source": [
    "def test():\n",
    "    try:\n",
    "        z = 5/0            #throws exception\n",
    "        print(z)\n",
    "    except ZeroDivisionError as z:\n",
    "        print(z, \"Exception handled\")  #handled exception"
   ]
  },
  {
   "cell_type": "code",
   "execution_count": 6,
   "id": "ea83163e",
   "metadata": {},
   "outputs": [
    {
     "name": "stdout",
     "output_type": "stream",
     "text": [
      "division by zero Exception handled\n"
     ]
    }
   ],
   "source": [
    "test()"
   ]
  },
  {
   "cell_type": "code",
   "execution_count": null,
   "id": "9e1d6a4f",
   "metadata": {},
   "outputs": [],
   "source": [
    "Q4. Explain with an example: \n",
    "    1. try and else:\n",
    "        try is used to write code that may throw an exception. else is used after all except \n",
    "        statements. program enters else block only if try does not throw error\n",
    "    2. finally:\n",
    "        It is after try and except blocks. Code inside finally is always executed even if \n",
    "        program throws error or not.\n",
    "    3. raise:\n",
    "        raise statement can be used to explicitly raise and particular type of exception.It is\n",
    "        used inside try block."
   ]
  },
  {
   "cell_type": "code",
   "execution_count": 8,
   "id": "ff24d020",
   "metadata": {},
   "outputs": [],
   "source": [
    "def test2():\n",
    "    try:\n",
    "        z = 5/0\n",
    "        print(z)\n",
    "    except ZeroDivisionError as z:\n",
    "        print(z, \"Exception handled\") \n",
    "    else:\n",
    "        print(\"No error occured in try block\")\n",
    "    finally:\n",
    "        print(\"Always excecuted!!\")"
   ]
  },
  {
   "cell_type": "code",
   "execution_count": 9,
   "id": "73b1ddd3",
   "metadata": {},
   "outputs": [
    {
     "name": "stdout",
     "output_type": "stream",
     "text": [
      "division by zero Exception handled\n",
      "Always excecuted!!\n"
     ]
    }
   ],
   "source": [
    "test2()  #except and finally excecuted"
   ]
  },
  {
   "cell_type": "code",
   "execution_count": 10,
   "id": "34bc6c08",
   "metadata": {},
   "outputs": [],
   "source": [
    "def test3():\n",
    "    try:\n",
    "        z = 6/3\n",
    "        print(z)\n",
    "    except ZeroDivisionError as z:\n",
    "        print(z, \"Exception handled\") \n",
    "    else:\n",
    "        print(\"No error occured in try block\")\n",
    "    finally:\n",
    "        print(\"Always excecuted!!\")"
   ]
  },
  {
   "cell_type": "code",
   "execution_count": 11,
   "id": "322ae11e",
   "metadata": {},
   "outputs": [
    {
     "name": "stdout",
     "output_type": "stream",
     "text": [
      "2.0\n",
      "No error occured in try block\n",
      "Always excecuted!!\n"
     ]
    }
   ],
   "source": [
    "test3()  #else and finally executed"
   ]
  },
  {
   "cell_type": "code",
   "execution_count": null,
   "id": "bb5754b0",
   "metadata": {},
   "outputs": [],
   "source": [
    "Q5. What are Custom Exceptions in python? Why do we need Custom Exceptions? \n",
    "Explain with an example\n",
    "\n",
    "Cusom exceptions are type of exceptions that we can write for our programs. We have to inherit \n",
    "base class exception to write custom exceptions.\n",
    "We need custom exceptions/user-defined exceptions for raising error according to the logic of program."
   ]
  },
  {
   "cell_type": "code",
   "execution_count": 19,
   "id": "efc9c46b",
   "metadata": {},
   "outputs": [],
   "source": [
    "class InvalidAge(Exception):  #custom exception defined\n",
    "    pass\n",
    "\n",
    "class checkAge:\n",
    "    def VotingAge(age):\n",
    "        try:\n",
    "            if age>=18:\n",
    "                print(\"Eligible\")\n",
    "            else:\n",
    "                raise InvalidAge  #custom exception raised\n",
    "        except InvalidAge:\n",
    "            print(\"Age should be above 18\")\n",
    "            "
   ]
  },
  {
   "cell_type": "code",
   "execution_count": 20,
   "id": "44176a2e",
   "metadata": {},
   "outputs": [],
   "source": [
    "c = checkAge"
   ]
  },
  {
   "cell_type": "code",
   "execution_count": 21,
   "id": "0bf23aaf",
   "metadata": {},
   "outputs": [
    {
     "name": "stdout",
     "output_type": "stream",
     "text": [
      "Age should be above 18\n"
     ]
    }
   ],
   "source": [
    "c.VotingAge(15)"
   ]
  },
  {
   "cell_type": "code",
   "execution_count": 23,
   "id": "9faab10b",
   "metadata": {
    "scrolled": true
   },
   "outputs": [
    {
     "name": "stdout",
     "output_type": "stream",
     "text": [
      "Eligible\n"
     ]
    }
   ],
   "source": [
    "c.VotingAge(25)"
   ]
  },
  {
   "cell_type": "code",
   "execution_count": 25,
   "id": "066d8139",
   "metadata": {},
   "outputs": [],
   "source": [
    "# Q6. Create custom exception class. Use this class to handle exception.\n",
    "class InvalidAge(Exception):  #custom exception defined\n",
    "    pass\n",
    "\n",
    "class checkAge:\n",
    "    def VotingAge(age):\n",
    "        try:\n",
    "            if age>=18:\n",
    "                print(\"Eligible\")\n",
    "            else:\n",
    "                raise InvalidAge  #custom exception raised\n",
    "        except InvalidAge:\n",
    "            print(\"Age should be above 18\")\n",
    "        except Exception as e:\n",
    "            print(\"Only Integers allowed\")"
   ]
  },
  {
   "cell_type": "code",
   "execution_count": 26,
   "id": "829d1983",
   "metadata": {},
   "outputs": [],
   "source": [
    "c1 = checkAge"
   ]
  },
  {
   "cell_type": "code",
   "execution_count": 27,
   "id": "a358ec78",
   "metadata": {},
   "outputs": [
    {
     "name": "stdout",
     "output_type": "stream",
     "text": [
      "Age should be above 18\n"
     ]
    }
   ],
   "source": [
    "c1.VotingAge(12)"
   ]
  },
  {
   "cell_type": "code",
   "execution_count": 28,
   "id": "19c6c515",
   "metadata": {},
   "outputs": [
    {
     "name": "stdout",
     "output_type": "stream",
     "text": [
      "Eligible\n"
     ]
    }
   ],
   "source": [
    "c1.VotingAge(33)"
   ]
  },
  {
   "cell_type": "code",
   "execution_count": 29,
   "id": "ce24d771",
   "metadata": {},
   "outputs": [
    {
     "name": "stdout",
     "output_type": "stream",
     "text": [
      "Only Integers allowed\n"
     ]
    }
   ],
   "source": [
    "c1.VotingAge(\"ss\")"
   ]
  },
  {
   "cell_type": "code",
   "execution_count": 30,
   "id": "ab8a0b59",
   "metadata": {},
   "outputs": [
    {
     "name": "stdout",
     "output_type": "stream",
     "text": [
      "Eligible\n"
     ]
    }
   ],
   "source": [
    "c1.VotingAge(22.3)"
   ]
  },
  {
   "cell_type": "code",
   "execution_count": null,
   "id": "d1d0905a",
   "metadata": {},
   "outputs": [],
   "source": []
  }
 ],
 "metadata": {
  "kernelspec": {
   "display_name": "Python 3 (ipykernel)",
   "language": "python",
   "name": "python3"
  },
  "language_info": {
   "codemirror_mode": {
    "name": "ipython",
    "version": 3
   },
   "file_extension": ".py",
   "mimetype": "text/x-python",
   "name": "python",
   "nbconvert_exporter": "python",
   "pygments_lexer": "ipython3",
   "version": "3.9.12"
  }
 },
 "nbformat": 4,
 "nbformat_minor": 5
}
