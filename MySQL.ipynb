{
 "cells": [
  {
   "cell_type": "code",
   "id": "0861a48b",
   "metadata": {},
   "source": [
    "# Q1 What is a database? Differentiate between SQL and NoSQL databases.\n",
    "Database is storing data.It allows us to retieve and maipulate data.They are used to store data\n",
    "securely, have data integrity and availability.\n",
    "\n",
    "SQL: Structured query language. These databases are based on relational model. The data is stored as rows and columns format.\n",
    "ex. postgres, Mysql, oracle\n",
    "\n",
    "NoSQL : Non relational database. Different types of data can be stored as they are schema less.\n",
    "They are used in modern web applications and big data.\n",
    "ex. Mongo DB(document based), redis(key-value based), neo4j(graph based)"
   ]
  },
  {
   "cell_type": "code",
   "id": "a48911ee",
   "metadata": {},
   "source": [
    "# Q2 What is DDL? Explain why CREATE, DROP, ALTER, and TRUNCATE are used with an example.\n",
    "DDL stands for Data definition languauge. DDL statements are used to create, modify, and delete database objects such as tables, indexes, views, schemas, and constraints.\n",
    "\n",
    "CREATE : Used to create new database object.\n",
    "CREATE TABLE employees (\n",
    "    id INT,\n",
    "    name VARCHAR(50),\n",
    "    age INT\n",
    ");\n",
    "\n",
    "DROP : Used to permannently delete database object.\n",
    "DROP TABLE employees;\n",
    "\n",
    "ALTER : Modify existing structure of columns in database\n",
    "ALTER TABLE employees\n",
    "ADD COLUMN salary DECIMAL(10, 2);\n",
    "\n",
    "TRUNCATE :Used to remove all data from table but the structure intact.\n",
    "TRUNCATE TABLE employees;"
   ]
  },
  {
   "cell_type": "code",
   "id": "747844fc",
   "metadata": {},
   "source": [
    "# Q3 What is DML? Explain INSERT, UPDATE, and DELETE with an example.\n",
    "DML stands for data manipulation languauge.It is used to retrieve, insert, update, and delete data within a database.\n",
    "\n",
    "INSERT: Used to insert new rows or records into a table\n",
    "INSERT INTO employees (name, age, salary) VALUES ('John Doe', 30, 50000);\n",
    "\n",
    "UPDATE: Used to modify existing data within a table.\n",
    "UPDATE employees SET salary = 55000 WHERE department = 'Sales';\n",
    "\n",
    "DELETE:  It allows users to delete specific rows based on specified conditions. \n",
    "DELETE FROM employees WHERE age > 60;\n"
   ]
  },
  {
   "cell_type": "code",
   "id": "876bae29",
   "metadata": {},
   "source": [
    "# Q4 What is DQL? Explain SELECT with an example.\n",
    "DQL stands for Data Query Language.It is used specifically for querying and retrieving data from a database.\n",
    "\n",
    "SELECT name FROM employees WHERE age > 30;\n",
    "\n",
    "By using the SELECT statement, you can retrieve specific columns or all columns from one or more tables, apply various filtering conditions using operators like \"=\" or \">\", join multiple tables, perform calculations on data, etc"
   ]
  },
  {
   "cell_type": "code",
   "id": "cedfca7b",
   "metadata": {},
   "source": [
    "# Q5 Explain Primary Key and Foreign Key.\n",
    "Primary Key:\n",
    "A primary key is a column or a set of columns in a database table that uniquely identifies each record in that table. It serves as a unique identifier for the records and ensures the integrity and uniqueness of the data within the table.\n",
    "Primary keys are automatically indexed by the database system, which improves query performance.\n",
    "\n",
    "Foreign Key:\n",
    "A foreign key is a column or a set of columns in a database table that establishes a link or a relationship between two tables. It represents a relationship between the data in two tables, where the foreign key in one table refers to the primary key in another table.\n",
    "The foreign key ensures referential integrity by enforcing data consistency and integrity. It guarantees that the value in the foreign key column corresponds to an existing value in the primary key column of the referenced table."
   ]
  },
  {
   "cell_type": "code",
   "id": "a0909c17",
   "metadata": {},
   "source": [
    "# Q6 Write a python code to connect MySQL to python. Explain the cursor() and execute() method.\n",
    "import mysql.connector\n",
    "\n",
    "# Establish the connection\n",
    "cnx = mysql.connector.connect(\n",
    "    user='your_username',\n",
    "    password='your_password',\n",
    "    host='localhost',\n",
    "    database='your_database'\n",
    ")\n",
    "\n",
    "# Create a cursor object\n",
    "cursor = cnx.cursor()\n",
    "\n",
    "# Execute a SQL query\n",
    "query = \"SELECT * FROM your_table\"\n",
    "cursor.execute(query)\n",
    "\n",
    "# Fetch the result\n",
    "result = cursor.fetchall()\n",
    "\n",
    "# Process the result\n",
    "for row in result:\n",
    "    print(row)\n",
    "\n",
    "# Close the cursor and connection\n",
    "cursor.close()\n",
    "cnx.close()\n",
    "\n",
    "\n",
    "cursor():\n",
    "The cursor() method is used to create a cursor object from the MySQL connection. It allows you to execute SQL statements and retrieve the results.It is called on the database connection object (cnx.cursor()) and returns a new cursor object.\n",
    "\n",
    "execute():\n",
    "The execute() method is used to execute a SQL query or statement using the cursor object.It takes the SQL query as a parameter and performs the corresponding database operation."
   ]
  },
  {
   "cell_type": "code",
   "id": "d34e3ae5",
   "metadata": {},
   "source": [
    "# Q7 Give the order of execution of SQL clauses in an SQL query.\n",
    "SELECT: The SELECT clause is executed first to determine the columns to be retrieved from the database. It specifies the data that will be returned in the result set.\n",
    "\n",
    "FROM: The FROM clause is executed after the SELECT clause. It specifies the table or tables from which the data will be retrieved. It defines the source of the data for the query.\n",
    "\n",
    "WHERE: The WHERE clause is executed after the FROM clause. It filters the rows from the specified table(s) based on the given conditions. It allows you to retrieve only the rows that meet the specified criteria.\n",
    "\n",
    "GROUP BY: If a GROUP BY clause is present in the query, it is executed after the WHERE clause. It groups the rows together based on one or more columns, allowing you to perform aggregate functions like SUM, COUNT, AVG, etc., on each group.\n",
    "\n",
    "HAVING: If a HAVING clause is used in conjunction with the GROUP BY clause, it is executed after the GROUP BY clause. It filters the grouped rows based on the specified conditions. It allows you to filter the groups based on aggregate function results.\n",
    "\n",
    "ORDER BY: The ORDER BY clause is executed after all the previous clauses. It sorts the result set based on one or more columns in ascending (default) or descending order. It allows you to control the order in which the rows are displayed in the output.\n",
    "\n",
    "LIMIT/OFFSET: If a LIMIT and/or OFFSET clause is specified, it is executed last. It limits the number of rows returned in the result set or skips a specified number of rows"
   ]
  },
  {
   "cell_type": "code",
   "execution_count": null,
   "id": "13fc724f",
   "metadata": {},
   "outputs": [],
   "source": []
  }
 ],
 "metadata": {
  "kernelspec": {
   "display_name": "Python 3 (ipykernel)",
   "language": "python",
   "name": "python3"
  },
  "language_info": {
   "codemirror_mode": {
    "name": "ipython",
    "version": 3
   },
   "file_extension": ".py",
   "mimetype": "text/x-python",
   "name": "python",
   "nbconvert_exporter": "python",
   "pygments_lexer": "ipython3",
   "version": "3.9.12"
  }
 },
 "nbformat": 4,
 "nbformat_minor": 5
}
