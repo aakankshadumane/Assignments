{
 "cells": [
  {
   "cell_type": "code",
   "execution_count": null,
   "id": "edd04f92",
   "metadata": {},
   "outputs": [],
   "source": [
    "# Q1. How do you comment code in Python? What are the different types of comments?\n",
    "\n",
    "COmment by placing # sign.\n",
    "Types of comment:\n",
    "    1 Single line\n",
    "    2. multi line"
   ]
  },
  {
   "cell_type": "code",
   "execution_count": null,
   "id": "0c77edd4",
   "metadata": {},
   "outputs": [],
   "source": [
    "# Q2. What are variables in Python? How do you declare and assign values to variables?\n",
    "variables are used to store values in memory\n",
    "example: var = 20"
   ]
  },
  {
   "cell_type": "code",
   "execution_count": 3,
   "id": "adfb613e",
   "metadata": {},
   "outputs": [
    {
     "name": "stdout",
     "output_type": "stream",
     "text": [
      "20\n"
     ]
    }
   ],
   "source": [
    "# Q3. How do you convert one data type to another in Python?\n",
    "var = 20\n",
    "# To convert to string, we use typecasting\n",
    "print(str(var))"
   ]
  },
  {
   "cell_type": "code",
   "execution_count": null,
   "id": "0b1cdccc",
   "metadata": {},
   "outputs": [],
   "source": [
    "# Q4. How do you write and execute a Python script from the command line?\n",
    "1. Save file as filename.py\n",
    "2. open command line\n",
    "3. type Python\n",
    "4. use cd to move to the location of file\n",
    "5. type python filename.py"
   ]
  },
  {
   "cell_type": "code",
   "execution_count": 4,
   "id": "a4e40000",
   "metadata": {},
   "outputs": [
    {
     "data": {
      "text/plain": [
       "[2, 3]"
      ]
     },
     "execution_count": 4,
     "metadata": {},
     "output_type": "execute_result"
    }
   ],
   "source": [
    "# Q5. Given a list my_list = [1, 2, 3, 4, 5], \n",
    "# write the code to slice the list and obtain the sub-list [2, 3].\n",
    "my_list = [1, 2, 3, 4, 5]\n",
    "my_list[1:3]\n"
   ]
  },
  {
   "cell_type": "code",
   "execution_count": null,
   "id": "bf7f4c20",
   "metadata": {},
   "outputs": [],
   "source": [
    "# Q6. What is a complex number in mathematics, and how is it represented in Python?\n",
    "complex number is real + imaginary part \n",
    "In python it is represented as example:  4+3j , 2-3j , 10+2j"
   ]
  },
  {
   "cell_type": "code",
   "execution_count": null,
   "id": "30aacd7b",
   "metadata": {},
   "outputs": [],
   "source": [
    "# Q7. What is the correct way to declare a variable named age and assign the value 25 to it?\n",
    "age = 25"
   ]
  },
  {
   "cell_type": "code",
   "execution_count": 5,
   "id": "c9910306",
   "metadata": {},
   "outputs": [
    {
     "data": {
      "text/plain": [
       "float"
      ]
     },
     "execution_count": 5,
     "metadata": {},
     "output_type": "execute_result"
    }
   ],
   "source": [
    "# Q8. Declare a variable named price and assign the value 9.99 to it. \n",
    "# What data type does this variable belong to?\n",
    "\n",
    "price = 9.99\n",
    "# It has float datatype\n",
    "type(price)"
   ]
  },
  {
   "cell_type": "code",
   "execution_count": 6,
   "id": "4db34817",
   "metadata": {},
   "outputs": [
    {
     "name": "stdout",
     "output_type": "stream",
     "text": [
      "Aakanksha Dumane\n"
     ]
    }
   ],
   "source": [
    "# Q9. Create a variable named name and assign your full name to it as a string.\n",
    "# How would you print the value of this variable?\n",
    "\n",
    "name  = \"Aakanksha Dumane\"\n",
    "print(name)"
   ]
  },
  {
   "cell_type": "code",
   "execution_count": 9,
   "id": "cc596797",
   "metadata": {},
   "outputs": [
    {
     "data": {
      "text/plain": [
       "'World'"
      ]
     },
     "execution_count": 9,
     "metadata": {},
     "output_type": "execute_result"
    }
   ],
   "source": [
    "# Q10. Given the string \"Hello, World!\", extract the substring \"World\".\n",
    "s1 = \"Hello, World!\"\n",
    "s1[7:-1]"
   ]
  },
  {
   "cell_type": "code",
   "execution_count": null,
   "id": "c2582f5c",
   "metadata": {},
   "outputs": [],
   "source": [
    "# Q11. Create a variable named \"is_student\" and assign it a boolean value indicating \n",
    "# whether you are currently a student or not.\n",
    "is_student = True"
   ]
  }
 ],
 "metadata": {
  "kernelspec": {
   "display_name": "Python 3 (ipykernel)",
   "language": "python",
   "name": "python3"
  },
  "language_info": {
   "codemirror_mode": {
    "name": "ipython",
    "version": 3
   },
   "file_extension": ".py",
   "mimetype": "text/x-python",
   "name": "python",
   "nbconvert_exporter": "python",
   "pygments_lexer": "ipython3",
   "version": "3.9.12"
  }
 },
 "nbformat": 4,
 "nbformat_minor": 5
}
