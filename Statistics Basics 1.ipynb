{
 "cells": [
  {
   "cell_type": "code",
   "execution_count": null,
   "id": "91379e3e",
   "metadata": {},
   "outputs": [],
   "source": [
    "# Q1. What is Statistics?\n",
    "Statistics is the study of the collection, analysis, interpretation, presentation, and \n",
    "organization of data. Using Statistics we can draw Inference or describe our data and present it \n",
    "in a useful manner."
   ]
  },
  {
   "cell_type": "code",
   "execution_count": null,
   "id": "c0325da6",
   "metadata": {},
   "outputs": [],
   "source": [
    "# Q2. Define the different types of statistics and give an example of when each type might be used\n",
    "Two types of stats:\n",
    "    1. Descriptive Stats - It is used for organizing and summarizing data. The mean, median, mode \n",
    "    are examples of descriptive stats.\n",
    "    ex. Average number of students passing in a particular year\n",
    "    2. Inferential Stats - It is Using data to form Conclusions.\n",
    "    ex. Based on data of under 19 Cricket, which player should be selected for test matches"
   ]
  },
  {
   "cell_type": "code",
   "execution_count": null,
   "id": "e2e981de",
   "metadata": {},
   "outputs": [],
   "source": [
    "# Q3. What are the different types of data and how do they differ from each other? \n",
    "# Provide an example of each type of data.\n",
    "Types of Data:\n",
    "    1. Quantitative:\n",
    "        1. Discrete - Consists of Whole numbers. example: No. of employees in a team(4,6,7)\n",
    "        2. Continuos - Consists of Any values. \n",
    "        example: Time required to complete a task(1,1.2,2.3 hours) \n",
    "    2. Qualitative:\n",
    "        1. Nominal - Categorical Data but rank is not associated with it.\n",
    "        example: Gender - Male or Female\n",
    "        2. Ordinal - categorical data but rank can be assigned. The difference in data cannot be\n",
    "        measured. example: Pass or Fail in a exam"
   ]
  },
  {
   "cell_type": "code",
   "execution_count": null,
   "id": "85c43834",
   "metadata": {},
   "outputs": [],
   "source": [
    "# Q4. Categorise the following datasets with respect to quantitative and qualitative data types:\n",
    "# (i) Grading in exam: A+, A, B+, B, C+, C, D, E\n",
    "->Ordinal\n",
    "# (ii) Colour of mangoes: yellow, green, orange, red\n",
    "->Nominal\n",
    "# (iii) Height data of a class: [178.9, 179, 179.5, 176, 177.2, 178.3, 175.8,...]\n",
    "->Continous\n",
    "# (iv) Number of mangoes exported by a farm: [500, 600, 478, 672, ...]\n",
    "->Discrete"
   ]
  },
  {
   "cell_type": "code",
   "execution_count": null,
   "id": "77d9a156",
   "metadata": {},
   "outputs": [],
   "source": [
    "# Q5. Explain the concept of levels of measurement and give an example of variable for each level\n",
    "Nominal: can only be categorized. ex- City of Birth\n",
    "Ordinal: can be categorized and ranked ex. Languauge Ability (Beginner or Advance)\n",
    "Interval: data can be categorized, ranked, and evenly spaced. Do not have zero as starting point\n",
    "    ex - Tempreture (can be in negative value or positive, -5'C, 45'C)\n",
    "Ratio: data can be categorized, ranked, evenly spaced, and has zero as a starting point.\n",
    "    ex - Age (starts with zero)"
   ]
  },
  {
   "cell_type": "code",
   "execution_count": null,
   "id": "4c6db277",
   "metadata": {},
   "outputs": [],
   "source": [
    "# Q6. Why is it important to understand the level of measurement when analyzing data? Provide an\n",
    "# example to illustrate your answer.\n",
    "The levels of measurement helps to decide which descriptive statistics you can use to get \n",
    "summary of your data, and which type of inferential statistics can be used on data to draw \n",
    "conclusions.\n",
    "Example: Salary can be measured in Ordinal and Ratio level.\n",
    "Ordinal level: create brackets of income ranges: 0–19,999, 20,000–39,999, and 40,000–59,999 and\n",
    "        code with numbers from 1–3.\n",
    "Ratio level: Exact annual incomes.\n",
    "    \n",
    "At Ratio level we can compare salaries more accurately rather than Ordinal level. Hence, getting \n",
    "to know what to use is important.\n",
    "    "
   ]
  },
  {
   "cell_type": "code",
   "execution_count": null,
   "id": "4d2d3623",
   "metadata": {},
   "outputs": [],
   "source": [
    "# Q7. How nominal data type is different from ordinal data type.\n",
    "Nominal and Ordinal both are Categorical data type. For Ordinal data type, rank can be associated\n",
    "with it. For Nominal, rank cannot be assigned."
   ]
  },
  {
   "cell_type": "code",
   "execution_count": null,
   "id": "dfe62e75",
   "metadata": {},
   "outputs": [],
   "source": [
    "# Q8. Which type of plot can be used to display data in terms of range?\n",
    "Histogram can be used."
   ]
  },
  {
   "cell_type": "code",
   "execution_count": null,
   "id": "9167a4af",
   "metadata": {},
   "outputs": [],
   "source": [
    "# Q9. Describe the difference between descriptive and inferential statistics. Give an example \n",
    "# of each type of statistics and explain how they are used.\n",
    "1. Descriptive Statistics: It is analysis of data that helps to describe and summarize data.It \n",
    "    gives information about raw data which describes the data in some manner.It can be achieved \n",
    "    with the help of charts, graphs, tables, etc.\n",
    "Types of Descriptive Statistics:\n",
    "Measure of Central Tendency: Mean, median, mode\n",
    "Measure of Variability: Range, variance, standard deviation\n",
    "    \n",
    "2. Inferential Statistics: In this, predictions are made by taking any group of data.It can be \n",
    "    defined as a random sample of data taken from a population to describe and make inferences \n",
    "    about the population.It allows us to compare data, and make hypotheses and predictions.It \n",
    "    can be achieved by probability."
   ]
  },
  {
   "cell_type": "code",
   "execution_count": null,
   "id": "c85265a8",
   "metadata": {},
   "outputs": [],
   "source": [
    "# Q10. What are some common measures of central tendency and variability used in statistics? Explain\n",
    "# how each measure can be used to describe a dataset.\n",
    "Measure of Central Tendency: Mean, median, mode\n",
    "Mean : Average of Dataset\n",
    "Median : Middle number after Sorting the data\n",
    "Mode : Most Frequently occuring item\n",
    "    \n",
    "Measure of Variability: Range, variance, standard deviation\n",
    "Range : start and ending point of dataset\n",
    "variance : spread of dataset arount its mean value\n",
    "standard deviation : Amount of variation or dispersion of set of values"
   ]
  },
  {
   "cell_type": "code",
   "execution_count": null,
   "id": "ab4b56e5",
   "metadata": {},
   "outputs": [],
   "source": []
  }
 ],
 "metadata": {
  "kernelspec": {
   "display_name": "Python 3 (ipykernel)",
   "language": "python",
   "name": "python3"
  },
  "language_info": {
   "codemirror_mode": {
    "name": "ipython",
    "version": 3
   },
   "file_extension": ".py",
   "mimetype": "text/x-python",
   "name": "python",
   "nbconvert_exporter": "python",
   "pygments_lexer": "ipython3",
   "version": "3.9.12"
  }
 },
 "nbformat": 4,
 "nbformat_minor": 5
}
