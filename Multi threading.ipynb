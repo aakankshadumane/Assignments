{
 "cells": [
  {
   "cell_type": "code",
   "execution_count": null,
   "id": "9126b1c8",
   "metadata": {},
   "outputs": [],
   "source": [
    "# Q1 What is multithreading in python? Why is it used? \n",
    "# Name the module used to handle threads in python\n",
    "\n",
    "1. Multi threading is ability of processors to process multiple threads concurrently.\n",
    "\n",
    "2. It is used to achieve multi tasking\n",
    "3. threading module"
   ]
  },
  {
   "cell_type": "code",
   "execution_count": null,
   "id": "43457a7b",
   "metadata": {},
   "outputs": [],
   "source": [
    "# Q2. Why threading module used? Write the use of the following functions\n",
    "# activeCount\n",
    "# currentThread\n",
    "# enumerate\n",
    "Threading module is used for creating, controlling and managing threads in python\n",
    "1. activecount  - counts the currently active or running threads\n",
    "2. currentThread - This function returns the number of thread objects in caller's thread control\n",
    "3. enumerate - adds a counter to an iterable and returns it in a form of enumerating object"
   ]
  },
  {
   "cell_type": "code",
   "execution_count": null,
   "id": "397a6368",
   "metadata": {},
   "outputs": [],
   "source": [
    "# Q3. Explain the following functions\n",
    "# run\n",
    "# start\n",
    "# join\n",
    "# isAlive\n",
    "\n",
    "1. run - used after start method. \n",
    "executes any target function belonging to a given thread object that is now active. \n",
    "\n",
    "2. start - creation of new thread\n",
    "\n",
    "3. join - it joins thread with main thread. when join() is used for a particular thread \n",
    "the main thread will stop executing until the execution of joined thread is complete.\n",
    "\n",
    "4. isAlive - used to check whether that thread is alive or not, ie, it is still running or not."
   ]
  },
  {
   "cell_type": "code",
   "execution_count": 3,
   "id": "e6bef9c2",
   "metadata": {},
   "outputs": [
    {
     "name": "stdout",
     "output_type": "stream",
     "text": [
      "1 4 9 16 25 36 49 64 81 100 1  8  27  64  125  216  343  512  729  1000  "
     ]
    }
   ],
   "source": [
    "# Q4. Write a python program to create two threads. Thread one must print the list of squares and thread\n",
    "# two must print the list of cubes\n",
    "\n",
    "import threading\n",
    "\n",
    "def print_squares():\n",
    "    squares = [x ** 2 for x in range(1, 11)]\n",
    "    for square in squares:\n",
    "        print(square, end = \" \")\n",
    "\n",
    "def print_cubes():\n",
    "    cubes = [x ** 3 for x in range(1, 11)]\n",
    "    for cube in cubes:\n",
    "        print(cube,end =  \"  \")\n",
    "\n",
    "if __name__ == \"__main__\":\n",
    "    t1 = threading.Thread(target=print_squares)\n",
    "    t2 = threading.Thread(target=print_cubes)\n",
    "\n",
    "    t1.start()\n",
    "    t2.start()\n",
    "\n",
    "    t1.join()\n",
    "    t2.join()\n"
   ]
  },
  {
   "cell_type": "code",
   "execution_count": null,
   "id": "8c7c8466",
   "metadata": {},
   "outputs": [],
   "source": [
    "# Q5. State advantages and disadvantages of multithreading\n",
    "Advantages:\n",
    "1. Allows concurrent execution of tasks\n",
    "2. Share memory space\n",
    "3. Divide complex tasks into smaller, more manageable threads.\n",
    "\n",
    "Disadvantages:\n",
    "1. Synchronization overhead\n",
    "2. Increased bugs and issues"
   ]
  },
  {
   "cell_type": "code",
   "execution_count": null,
   "id": "29e20773",
   "metadata": {},
   "outputs": [],
   "source": [
    "# Q6. Explain deadlocks and race conditions.\n",
    "When two processes are waiting for each other directly or indirectly, it is called deadlock.\n",
    "\n",
    "When two processes are competing with each other causing data corruption is called race condition"
   ]
  }
 ],
 "metadata": {
  "kernelspec": {
   "display_name": "Python 3 (ipykernel)",
   "language": "python",
   "name": "python3"
  },
  "language_info": {
   "codemirror_mode": {
    "name": "ipython",
    "version": 3
   },
   "file_extension": ".py",
   "mimetype": "text/x-python",
   "name": "python",
   "nbconvert_exporter": "python",
   "pygments_lexer": "ipython3",
   "version": "3.9.12"
  }
 },
 "nbformat": 4,
 "nbformat_minor": 5
}
